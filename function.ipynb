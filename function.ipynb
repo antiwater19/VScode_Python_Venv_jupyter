{
 "cells": [
  {
   "cell_type": "code",
   "execution_count": 1,
   "id": "cc1f76c4",
   "metadata": {},
   "outputs": [],
   "source": [
    "# 함수 : 데이터를 받아서 처리(데이터의 가공)하고 결과 데이터\n",
    "# def 함수이름([매개변수1, 매개변수2, ...]) :\n",
    "#     처리할 문장\n",
    "#     [return [결과값]] 함수의 종료, 값을 반환\n",
    "\n",
    "# add 함수\n",
    "# 숫자 두개를 받아서 \n",
    "# 덧샘의 결과를 반환\n",
    "def add(n1, n2):\n",
    "    result = n1 + n2 # 데이터 처리\n",
    "    return result # 결과값 반환"
   ]
  },
  {
   "cell_type": "code",
   "execution_count": 2,
   "id": "14a09d9b",
   "metadata": {},
   "outputs": [
    {
     "data": {
      "text/plain": [
       "30"
      ]
     },
     "execution_count": 2,
     "metadata": {},
     "output_type": "execute_result"
    }
   ],
   "source": [
    "add(10, 20) # 함수 호출"
   ]
  },
  {
   "cell_type": "code",
   "execution_count": null,
   "id": "543ee74a",
   "metadata": {},
   "outputs": [
    {
     "name": "stdout",
     "output_type": "stream",
     "text": [
      "\n",
      "    1. list\n",
      "    2. insert\n",
      "    3. search\n",
      "    4. delete\n",
      "    5. exit\n",
      "    \n"
     ]
    }
   ],
   "source": [
    "# 매개변수가 없는 함수, 반환값도 없는 함수\n",
    "def display_menu():\n",
    "    menu = '''\n",
    "    1. list\n",
    "    2. insert\n",
    "    3. search\n",
    "    4. delete\n",
    "    5. exit\n",
    "    '''\n",
    "    print(menu)\n",
    "    \n",
    "display_menu() # 함수 호출"
   ]
  },
  {
   "cell_type": "code",
   "execution_count": 6,
   "id": "ffb39259",
   "metadata": {},
   "outputs": [],
   "source": [
    "# 매개변수가 있고 반환이 없는 함수\n",
    "# 숫자 두개를 받아서 => 매개변수\n",
    "# 덧샘연산 결과를 출력하는 => 처리\n",
    "# 함수\n",
    "def add_print(num1, num2):\n",
    "    print(f'{num1}+{num2}={num1+num2}')"
   ]
  },
  {
   "cell_type": "code",
   "execution_count": 8,
   "id": "cdd838af",
   "metadata": {},
   "outputs": [
    {
     "name": "stdout",
     "output_type": "stream",
     "text": [
      "100+5=105\n"
     ]
    }
   ],
   "source": [
    "add_print(100, 5) # 함수 호출"
   ]
  }
 ],
 "metadata": {
  "kernelspec": {
   "display_name": ".venv",
   "language": "python",
   "name": "python3"
  },
  "language_info": {
   "codemirror_mode": {
    "name": "ipython",
    "version": 3
   },
   "file_extension": ".py",
   "mimetype": "text/x-python",
   "name": "python",
   "nbconvert_exporter": "python",
   "pygments_lexer": "ipython3",
   "version": "3.13.3"
  }
 },
 "nbformat": 4,
 "nbformat_minor": 5
}
