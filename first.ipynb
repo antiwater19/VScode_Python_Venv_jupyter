{
 "cells": [
  {
   "cell_type": "code",
   "execution_count": 31,
   "id": "0cfe23d6",
   "metadata": {},
   "outputs": [
    {
     "name": "stdout",
     "output_type": "stream",
     "text": [
      "1\n"
     ]
    }
   ],
   "source": [
    "print(1)"
   ]
  },
  {
   "cell_type": "code",
   "execution_count": 32,
   "id": "43c167c2",
   "metadata": {},
   "outputs": [
    {
     "name": "stdout",
     "output_type": "stream",
     "text": [
      "안녕하세요\n"
     ]
    }
   ],
   "source": [
    "print('안녕하세요')"
   ]
  },
  {
   "cell_type": "markdown",
   "id": "1d5fdcf1",
   "metadata": {},
   "source": [
    "# 파이썬\n",
    "## first Python\n",
    "### programing"
   ]
  },
  {
   "cell_type": "code",
   "execution_count": 33,
   "id": "18d76e0a",
   "metadata": {},
   "outputs": [],
   "source": [
    "# 이건 주석이에요\n",
    "# 변수 \n",
    "# 식별자(이름) = 값\n",
    "num = 100"
   ]
  },
  {
   "cell_type": "code",
   "execution_count": 34,
   "id": "c03ef021",
   "metadata": {},
   "outputs": [
    {
     "name": "stdout",
     "output_type": "stream",
     "text": [
      "100\n"
     ]
    }
   ],
   "source": [
    "print(num)"
   ]
  },
  {
   "cell_type": "code",
   "execution_count": 35,
   "id": "0dd5b4e1",
   "metadata": {},
   "outputs": [],
   "source": [
    "# num의 메모리 주소\n",
    "# id() : 객체의 메모리 주소를 확인하는 함수\n",
    "id(num)\n",
    "list1 = [1, 2, 3] # 리스트"
   ]
  },
  {
   "cell_type": "code",
   "execution_count": 36,
   "id": "3fcbe97b",
   "metadata": {},
   "outputs": [
    {
     "name": "stdout",
     "output_type": "stream",
     "text": [
      "1971149717952 1971149717952\n"
     ]
    }
   ],
   "source": [
    "a = [1, 2, 3]\n",
    "b = a # a와 b는 같은 객체를 가리킴\n",
    "print(id(a), id(b)) # a와 b는 같은 메모리 주소를 가리킴"
   ]
  },
  {
   "cell_type": "code",
   "execution_count": 37,
   "id": "13721e8e",
   "metadata": {},
   "outputs": [
    {
     "name": "stdout",
     "output_type": "stream",
     "text": [
      "python python\n",
      "3 5\n",
      "5 3\n"
     ]
    }
   ],
   "source": [
    "(a, b) = ('python', 'life') # 튜플\n",
    "(a, b) = 'python', 'life'   # 튜플 괄호생략 가능\n",
    "a = b = 'python' # 여러개 변수에 같은 값 대입\n",
    "print(a, b) # a와 b는 같은 값\n",
    "a = 3 \n",
    "b = 5\n",
    "print(a, b)\n",
    "a, b = b, a # a와 b의 값 교환\n",
    "print(a, b) "
   ]
  },
  {
   "cell_type": "code",
   "execution_count": 38,
   "id": "8360f403",
   "metadata": {},
   "outputs": [
    {
     "name": "stdout",
     "output_type": "stream",
     "text": [
      "10\n",
      "90\n",
      "100\n",
      "3.3333333333333335\n",
      "1\n",
      "3\n",
      "9\n"
     ]
    }
   ],
   "source": [
    "# 자료형\n",
    "# 숫자형 = int, float, complex, bool, 8진수, 16진수\n",
    "# 정수, 실수\n",
    "# 숫자 연산 => 사칙연산, %, //, **\n",
    "print(7+3) # 덧셈\n",
    "print(100-10) # 뺄셈\n",
    "print(4*25) # 곱하기\n",
    "print(10/3) # 나누기\n",
    "print(10%3) # 나머지\n",
    "print(10//3) # 몫\n",
    "print(3**2) # 제곱"
   ]
  },
  {
   "cell_type": "code",
   "execution_count": 39,
   "id": "fb5de3f3",
   "metadata": {},
   "outputs": [],
   "source": [
    "# 문자열 string\n",
    "# hello => 문자들을 나열(순서) h, e, l, l, o -> 시퀀스 자료형\n",
    "# 문자열 생성 : \"hello\" 'hello' '''hello''' \"\"\"hello\"\"\"\n",
    "str_1 = 'hello'"
   ]
  },
  {
   "cell_type": "code",
   "execution_count": 40,
   "id": "0da6ec07",
   "metadata": {},
   "outputs": [
    {
     "data": {
      "text/plain": [
       "'hello'"
      ]
     },
     "execution_count": 40,
     "metadata": {},
     "output_type": "execute_result"
    }
   ],
   "source": [
    "str_1"
   ]
  },
  {
   "cell_type": "code",
   "execution_count": 41,
   "id": "37d56bda",
   "metadata": {},
   "outputs": [],
   "source": [
    "str_2 = '''\n",
    "안녕하세요!\n",
    "    반갑습니다.\n",
    "'''"
   ]
  },
  {
   "cell_type": "code",
   "execution_count": 42,
   "id": "3085c49b",
   "metadata": {},
   "outputs": [
    {
     "name": "stdout",
     "output_type": "stream",
     "text": [
      "\n",
      "안녕하세요!\n",
      "    반갑습니다.\n",
      "\n"
     ]
    }
   ],
   "source": [
    "print(str_2)"
   ]
  },
  {
   "cell_type": "code",
   "execution_count": 43,
   "id": "b2772825",
   "metadata": {},
   "outputs": [],
   "source": [
    "str_sql = '''\n",
    "select *\n",
    "from emp\n",
    "where empno = 1000\n",
    "'''"
   ]
  },
  {
   "cell_type": "code",
   "execution_count": 44,
   "id": "30c4af2c",
   "metadata": {},
   "outputs": [],
   "source": [
    "str_html = '''\n",
    "<html>\n",
    "    <head>\n",
    "        <title>제목</title>\n",
    "    </head>\n",
    "    <body>\n",
    "        <h1>안녕하세요</h1>\n",
    "    </body>\n",
    "'''"
   ]
  },
  {
   "cell_type": "code",
   "execution_count": 45,
   "id": "5841b0fb",
   "metadata": {},
   "outputs": [
    {
     "name": "stdout",
     "output_type": "stream",
     "text": [
      "Python Nice~!!\n"
     ]
    }
   ],
   "source": [
    "# 문자열 연산자\n",
    "# 더하기 +, 곱하기, 함수=> 길이(size) : len()\n",
    "head = 'Python'\n",
    "tail = 'Nice~!!'\n",
    "print(head +' '+ tail) # 문자열 더하기"
   ]
  },
  {
   "cell_type": "code",
   "execution_count": 46,
   "id": "65a287fb",
   "metadata": {},
   "outputs": [
    {
     "name": "stdout",
     "output_type": "stream",
     "text": [
      "--------------------\n",
      "PythonPython\n",
      "6\n"
     ]
    }
   ],
   "source": [
    "print('-'*20)\n",
    "print(head * 2)\n",
    "print(len(head)) # 문자열 길이"
   ]
  },
  {
   "cell_type": "code",
   "execution_count": 47,
   "id": "06601da9",
   "metadata": {},
   "outputs": [],
   "source": [
    "# 문자열의 인덱싱, 슬라이싱\n",
    "# P y t h o n\n",
    "# 0 1 2 3 4 5 <- index\n",
    "# -6-5-4-3-2-1 <- index\n",
    "str_3 = 'Python'"
   ]
  },
  {
   "cell_type": "code",
   "execution_count": 48,
   "id": "a2d3a57a",
   "metadata": {},
   "outputs": [
    {
     "name": "stdout",
     "output_type": "stream",
     "text": [
      "P\n",
      "y\n",
      "t\n",
      "h\n",
      "o\n",
      "n\n"
     ]
    }
   ],
   "source": [
    "print(str_3[0])\n",
    "print(str_3[1])\n",
    "print(str_3[2])\n",
    "print(str_3[3])\n",
    "print(str_3[4])\n",
    "print(str_3[5])"
   ]
  },
  {
   "cell_type": "code",
   "execution_count": 49,
   "id": "0cd49bf6",
   "metadata": {},
   "outputs": [
    {
     "name": "stdout",
     "output_type": "stream",
     "text": [
      "P\n",
      "y\n",
      "t\n",
      "h\n",
      "o\n",
      "n\n"
     ]
    }
   ],
   "source": [
    "print(str_3[-6])\n",
    "print(str_3[-5])\n",
    "print(str_3[-4])\n",
    "print(str_3[-3])\n",
    "print(str_3[-2])\n",
    "print(str_3[-1])"
   ]
  },
  {
   "cell_type": "code",
   "execution_count": 50,
   "id": "6bd310e4",
   "metadata": {},
   "outputs": [
    {
     "name": "stdout",
     "output_type": "stream",
     "text": [
      "Pyt\n"
     ]
    }
   ],
   "source": [
    "# 슬라이싱 : str_3[시작index, 끝index]\n",
    "# P y t h o n\n",
    "# 0 1 2 3 4 5 <- index\n",
    "print(str_3[0:3])"
   ]
  },
  {
   "cell_type": "code",
   "execution_count": 51,
   "id": "22c86090",
   "metadata": {},
   "outputs": [
    {
     "data": {
      "text/plain": [
       "'안녕하세요! 저는홍길동입니다. 제 나이는 21입니다.'"
      ]
     },
     "execution_count": 51,
     "metadata": {},
     "output_type": "execute_result"
    }
   ],
   "source": [
    "# f`안녕하세요! {name}님`\n",
    "user_name = '홍길동'\n",
    "user_age = 20\n",
    "f'안녕하세요! 저는{user_name}입니다. 제 나이는 {user_age+1}입니다.'"
   ]
  },
  {
   "cell_type": "code",
   "execution_count": 30,
   "id": "01c062bc",
   "metadata": {},
   "outputs": [],
   "source": [
    "# 문자열 타입이 제공하는 함수\n",
    "str_4 = 'hobby'"
   ]
  },
  {
   "cell_type": "code",
   "execution_count": 53,
   "id": "ef944951",
   "metadata": {},
   "outputs": [
    {
     "name": "stdout",
     "output_type": "stream",
     "text": [
      "2\n",
      "a,b,c,d\n"
     ]
    }
   ],
   "source": [
    "print(str_4.count('b')) # b의 개수\n",
    "print(','.join('abcd')) # 문자열을 ,로 연결"
   ]
  }
 ],
 "metadata": {
  "kernelspec": {
   "display_name": ".venv",
   "language": "python",
   "name": "python3"
  },
  "language_info": {
   "codemirror_mode": {
    "name": "ipython",
    "version": 3
   },
   "file_extension": ".py",
   "mimetype": "text/x-python",
   "name": "python",
   "nbconvert_exporter": "python",
   "pygments_lexer": "ipython3",
   "version": "3.13.3"
  }
 },
 "nbformat": 4,
 "nbformat_minor": 5
}
