{
 "cells": [
  {
   "cell_type": "code",
   "execution_count": null,
   "id": "54cd3da6",
   "metadata": {},
   "outputs": [],
   "source": [
    "# 파일다루기에 대한 것 들이다.\n",
    "# file 의 입출력 : open(자원의 위치, 모드)\n",
    "# 파일에 문자열 쓰기\n",
    "f = open('newFile.txt', 'w')\n",
    "for i in range(1, 16):\n",
    "    f.write(f'{i}번째 줄 입력\\n')\n",
    "f.close()"
   ]
  },
  {
   "cell_type": "code",
   "execution_count": 18,
   "id": "9603b8e9",
   "metadata": {},
   "outputs": [],
   "source": [
    "f = open('newFile.txt', 'a')\n",
    "for i in range(21, 25):\n",
    "    f.write(f'{i}번째 줄 입력\\n')\n",
    "f.close()"
   ]
  },
  {
   "cell_type": "code",
   "execution_count": 11,
   "id": "ad71216d",
   "metadata": {},
   "outputs": [
    {
     "name": "stdout",
     "output_type": "stream",
     "text": [
      "21번째 줄 입력\n",
      "\n",
      "22번째 줄 입력\n",
      "\n"
     ]
    }
   ],
   "source": [
    "# read : open(path, 'r')\n",
    "# readline() => 줄단위 반환 -> str\n",
    "f1 = open('newFile.txt', 'r')\n",
    "line1 = f1.readline()\n",
    "line2 = f1.readline()\n",
    "print(line1)\n",
    "print(line2)\n",
    "f1.close()"
   ]
  },
  {
   "cell_type": "code",
   "execution_count": 19,
   "id": "7afcc771",
   "metadata": {},
   "outputs": [
    {
     "name": "stdout",
     "output_type": "stream",
     "text": [
      "21占쏙옙째 占쏙옙 占쌉뤄옙\n",
      "22占쏙옙째 占쏙옙 占쌉뤄옙\n",
      "23占쏙옙째 占쏙옙 占쌉뤄옙\n",
      "24占쏙옙째 占쏙옙 占쌉뤄옙\n",
      "21占쏙옙째 占쏙옙 占쌉뤄옙\n",
      "22占쏙옙째 占쏙옙 占쌉뤄옙\n",
      "23占쏙옙째 占쏙옙 占쌉뤄옙\n",
      "24占쏙옙째 占쏙옙 占쌉뤄옙\n",
      "25占쏙옙째 占쏙옙 占쌉뤄옙\n",
      "16占쏙옙째 占쏙옙 占쌉뤄옙\n",
      "17占쏙옙째 占쏙옙 占쌉뤄옙\n",
      "18占쏙옙째 占쏙옙 占쌉뤄옙\n",
      "19占쏙옙째 占쏙옙 占쌉뤄옙\n",
      "20占쏙옙째 占쏙옙 占쌉뤄옙\n",
      "21占쏙옙째 占쏙옙 占쌉뤄옙\n",
      "22占쏙옙째 占쏙옙 占쌉뤄옙\n",
      "23占쏙옙째 占쏙옙 占쌉뤄옙\n",
      "24占쏙옙째 占쏙옙 占쌉뤄옙\n",
      "25占쏙옙째 占쏙옙 占쌉뤄옙\n",
      "21번째 줄 입력\n",
      "22번째 줄 입력\n",
      "23번째 줄 입력\n",
      "24번째 줄 입력\n",
      "21번째 줄 입력\n",
      "22번째 줄 입력\n",
      "23번째 줄 입력\n",
      "24번째 줄 입력\n"
     ]
    }
   ],
   "source": [
    "f1 = open('newFile.txt', 'r')\n",
    "while 1 :\n",
    "    line_temp = f1.readline()\n",
    "    if not line_temp :\n",
    "        break\n",
    "    print(line_temp, end='')\n",
    "\n",
    "f1.close()"
   ]
  },
  {
   "cell_type": "code",
   "execution_count": 20,
   "id": "97057b7c",
   "metadata": {},
   "outputs": [
    {
     "name": "stdout",
     "output_type": "stream",
     "text": [
      "21占쏙옙째 占쏙옙 占쌉뤄옙\n",
      "22占쏙옙째 占쏙옙 占쌉뤄옙\n",
      "23占쏙옙째 占쏙옙 占쌉뤄옙\n",
      "24占쏙옙째 占쏙옙 占쌉뤄옙\n",
      "21占쏙옙째 占쏙옙 占쌉뤄옙\n",
      "22占쏙옙째 占쏙옙 占쌉뤄옙\n",
      "23占쏙옙째 占쏙옙 占쌉뤄옙\n",
      "24占쏙옙째 占쏙옙 占쌉뤄옙\n",
      "25占쏙옙째 占쏙옙 占쌉뤄옙\n",
      "16占쏙옙째 占쏙옙 占쌉뤄옙\n",
      "17占쏙옙째 占쏙옙 占쌉뤄옙\n",
      "18占쏙옙째 占쏙옙 占쌉뤄옙\n",
      "19占쏙옙째 占쏙옙 占쌉뤄옙\n",
      "20占쏙옙째 占쏙옙 占쌉뤄옙\n",
      "21占쏙옙째 占쏙옙 占쌉뤄옙\n",
      "22占쏙옙째 占쏙옙 占쌉뤄옙\n",
      "23占쏙옙째 占쏙옙 占쌉뤄옙\n",
      "24占쏙옙째 占쏙옙 占쌉뤄옙\n",
      "25占쏙옙째 占쏙옙 占쌉뤄옙\n",
      "21번째 줄 입력\n",
      "22번째 줄 입력\n",
      "23번째 줄 입력\n",
      "24번째 줄 입력\n",
      "21번째 줄 입력\n",
      "22번째 줄 입력\n",
      "23번째 줄 입력\n",
      "24번째 줄 입력\n"
     ]
    }
   ],
   "source": [
    "with open('newFile.txt', 'r') as file :\n",
    "    for s in file.readlines() :\n",
    "        print(s, end='')"
   ]
  }
 ],
 "metadata": {
  "kernelspec": {
   "display_name": ".venv",
   "language": "python",
   "name": "python3"
  },
  "language_info": {
   "codemirror_mode": {
    "name": "ipython",
    "version": 3
   },
   "file_extension": ".py",
   "mimetype": "text/x-python",
   "name": "python",
   "nbconvert_exporter": "python",
   "pygments_lexer": "ipython3",
   "version": "3.13.3"
  }
 },
 "nbformat": 4,
 "nbformat_minor": 5
}
