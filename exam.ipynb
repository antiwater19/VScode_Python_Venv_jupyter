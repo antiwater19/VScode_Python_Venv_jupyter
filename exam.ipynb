{
 "cells": [
  {
   "cell_type": "code",
   "execution_count": 1,
   "id": "633786ad",
   "metadata": {},
   "outputs": [
    {
     "name": "stdout",
     "output_type": "stream",
     "text": [
      "총점 : 453\n",
      "평균 : 151.0\n"
     ]
    }
   ],
   "source": [
    "# 과목별 점수의 총합과 총점 평균\n",
    "# 국어, 영어, 수학 => 총합, 평균각 과목의 총점, 평균\n",
    "\n",
    "kor_score1 = int(input('국어점수 입력 >>>'))\n",
    "eng_score1 = 100\n",
    "math_score1 = 60\n",
    "\n",
    "sum = kor_score1+eng_score1+math_score1\n",
    "avg = sum/3\n",
    "\n",
    "print('총점 :', sum)\n",
    "print('평균 :', avg)"
   ]
  },
  {
   "cell_type": "code",
   "execution_count": 2,
   "id": "0095d06f",
   "metadata": {},
   "outputs": [
    {
     "name": "stdout",
     "output_type": "stream",
     "text": [
      "check :  False\n"
     ]
    }
   ],
   "source": [
    "# 성별이 남성이고 18세 이상의 성인 여부를 판단하는 조건식\n",
    "gender = 'male'\n",
    "age = 15\n",
    "\n",
    "check = gender=='male' and age>= 18\n",
    "print('check : ', check)"
   ]
  },
  {
   "cell_type": "code",
   "execution_count": 3,
   "id": "6412a0be",
   "metadata": {},
   "outputs": [
    {
     "name": "stdout",
     "output_type": "stream",
     "text": [
      "홀수\n"
     ]
    }
   ],
   "source": [
    "user_number = int(input('숫자를 입력하세요!'))\n",
    "# 짝수/홀수 판단 => 숫자를 2로나눈 나머지 값으로 판단\n",
    "check = user_number%2==0  # 짝수 \n",
    "if check :\n",
    "    print('짝수')\n",
    "else :\n",
    "    print('홀수')"
   ]
  },
  {
   "cell_type": "code",
   "execution_count": 4,
   "id": "61d184f6",
   "metadata": {},
   "outputs": [
    {
     "name": "stdout",
     "output_type": "stream",
     "text": [
      "양수\n"
     ]
    }
   ],
   "source": [
    "user_number = int(input('숫자를 입력하세요!'))\n",
    "# if .. elif ... else 구문을 이용\n",
    "\n",
    "if user_number>0 :\n",
    "    print('양수')\n",
    "elif user_number<0:\n",
    "    print('음수')\n",
    "else :\n",
    "    print(0)"
   ]
  },
  {
   "cell_type": "code",
   "execution_count": 5,
   "id": "3cf02aa1",
   "metadata": {},
   "outputs": [
    {
     "name": "stdout",
     "output_type": "stream",
     "text": [
      "무료접종 대상자가 아닙니다.\n"
     ]
    }
   ],
   "source": [
    "user_age = int(input('나이를 입력하세요!'))\n",
    "\n",
    "check = age<15 or age>=65\n",
    "if check :\n",
    "    print('무료접종이 가능합니다!')\n",
    "else :\n",
    "    print('무료접종 대상자가 아닙니다.')"
   ]
  },
  {
   "cell_type": "code",
   "execution_count": 6,
   "id": "57b134d5",
   "metadata": {},
   "outputs": [
    {
     "name": "stdout",
     "output_type": "stream",
     "text": [
      "올해는 검진 대상자가 아닙니다.\n"
     ]
    }
   ],
   "source": [
    "birth_year = int(input('태어난 년도를 입력하세요!'))\n",
    "# 나이계산\n",
    "u_age = 2024-birth_year\n",
    "# 올해년도와 태어난 년도의 짝/홀수 판단\n",
    "#medial_chk = 2024%2 == birth_year%2 and u_age >= 20\n",
    "medial_chk = (2024+birth_year)%2==0 and u_age >= 20\n",
    "\n",
    "if medial_chk :\n",
    "    print('올해는 검진 대상자입니다.')\n",
    "    if u_age >= 40 :\n",
    "        print('암검진 대상자 입니다.')\n",
    "else :\n",
    "    print('올해는 검진 대상자가 아닙니다.')"
   ]
  },
  {
   "cell_type": "code",
   "execution_count": 7,
   "id": "4d13405f",
   "metadata": {},
   "outputs": [
    {
     "name": "stdout",
     "output_type": "stream",
     "text": [
      "1~100 까지의 합:  5050\n"
     ]
    }
   ],
   "source": [
    "# 1부터 100까지의 합을 구하는 프로그램\n",
    "# 1~100 까지 반복 : while, for\n",
    "sum = 0\n",
    "for n in range(1, 101):\n",
    "    #print(n , end=' ')\n",
    "    sum += n # sum = sum +n\n",
    "    \n",
    "print('1~100 까지의 합: ', + sum)"
   ]
  },
  {
   "cell_type": "code",
   "execution_count": 8,
   "id": "5af9e210",
   "metadata": {},
   "outputs": [
    {
     "name": "stdout",
     "output_type": "stream",
     "text": [
      "1~100 까지의 합 :  5050\n"
     ]
    }
   ],
   "source": [
    "num = 1  # 1씩 증가시킬 변수\n",
    "sum = 0\n",
    "while num < 101 :    \n",
    "    sum += num\n",
    "    #print(num, end=' ')\n",
    "    num += 1  # 증가식 : 탈출 식\n",
    "\n",
    "print('1~100 까지의 합 : ', sum)"
   ]
  },
  {
   "cell_type": "code",
   "execution_count": 9,
   "id": "e19fa7af",
   "metadata": {},
   "outputs": [
    {
     "name": "stdout",
     "output_type": "stream",
     "text": [
      "1~10 까지의 숫자들의 곱 연산 :  3628800\n"
     ]
    }
   ],
   "source": [
    "# for문을 이용해서 1~10 까지의 곱한 결과 출력\n",
    "result = 1\n",
    "for n in range(1,11):\n",
    "    #print(n, end=' ')\n",
    "    result *= n  # result = result * n\n",
    "\n",
    "print('1~10 까지의 숫자들의 곱 연산 : ', result)"
   ]
  },
  {
   "cell_type": "code",
   "execution_count": 10,
   "id": "210ed1c0",
   "metadata": {},
   "outputs": [
    {
     "name": "stdout",
     "output_type": "stream",
     "text": [
      "2 단 \n",
      "2X1=2  2X2=4  \n",
      "4 단 \n",
      "4X1=4  4X2=8  4X3=12  4X4=16  \n",
      "6 단 \n",
      "6X1=6  6X2=12  6X3=18  6X4=24  6X5=30  6X6=36  \n",
      "8 단 \n",
      "8X1=8  8X2=16  8X3=24  8X4=32  8X5=40  8X6=48  8X7=56  8X8=64  \n"
     ]
    }
   ],
   "source": [
    "# 구구단 짝수단 2, 4, 6, 8\n",
    "# 2=> 2X2  4=>4X4  6=>6X6   8=>8X8\n",
    "for dan in range(2, 10, 2):\n",
    "    print(dan, '단', end=' ')\n",
    "    print()\n",
    "    for n in range(1, dan+1): # dan => 2, 4 ,6 , 8\n",
    "        #print(dan, 'X', n, '=', dan*n, end=' ')\n",
    "        print(f'{dan}X{n}={dan*n}', end='  ')\n",
    "    print()"
   ]
  },
  {
   "cell_type": "code",
   "execution_count": 11,
   "id": "721c9d25",
   "metadata": {},
   "outputs": [
    {
     "name": "stdout",
     "output_type": "stream",
     "text": [
      "56 을 더했을 때 최초 1000을 넘어간다.\n",
      "최초로 1000이 넘어가는 값은  1055\n"
     ]
    }
   ],
   "source": [
    "# 1~? 짝수와 3의 배수를 더해서  그 합이 언제 1000 이 넘어가는지 \n",
    "# 1000 이 넘어선 값은 얼마인지 출력\n",
    "num = 0\n",
    "sum = 0\n",
    "while True:\n",
    "    num += 1\n",
    "    if num%2==0 or num%3==0:\n",
    "        sum += num\n",
    "    #print(num)\n",
    "    if sum > 1000 :\n",
    "        print(num, '을 더했을 때 최초 1000을 넘어간다.')\n",
    "        print('최초로 1000이 넘어가는 값은 ', sum)\n",
    "        break"
   ]
  }
 ],
 "metadata": {
  "kernelspec": {
   "display_name": ".venv",
   "language": "python",
   "name": "python3"
  },
  "language_info": {
   "codemirror_mode": {
    "name": "ipython",
    "version": 3
   },
   "file_extension": ".py",
   "mimetype": "text/x-python",
   "name": "python",
   "nbconvert_exporter": "python",
   "pygments_lexer": "ipython3",
   "version": "3.13.3"
  }
 },
 "nbformat": 4,
 "nbformat_minor": 5
}
