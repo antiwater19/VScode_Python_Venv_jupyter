{
 "cells": [
  {
   "cell_type": "code",
   "execution_count": 2,
   "id": "59317d29",
   "metadata": {},
   "outputs": [],
   "source": [
    "import pymysql"
   ]
  },
  {
   "cell_type": "code",
   "execution_count": null,
   "id": "f9725da2",
   "metadata": {},
   "outputs": [],
   "source": [
    "# 1. 데이터 베이스 연결\n",
    "# 2. SQL 생성\n",
    "# 3. SQL 실행 => 결과(데이터 타입 확인)\n",
    "# select => tuple, DML => int"
   ]
  },
  {
   "cell_type": "code",
   "execution_count": 18,
   "id": "019022ee",
   "metadata": {},
   "outputs": [],
   "source": [
    "# 1. 데이터베이스 연결\n",
    "proj_db = pymysql.connect(\n",
    "    host = '127.0.0.1',\n",
    "    port = 3306,\n",
    "    user = 'notroot',\n",
    "    password = 'admin',\n",
    "    db = 'dobyisfree', # 데이터베이스 이름\n",
    "    charset = 'utf8',\n",
    "    autocommit = False\n",
    ") # Connection 객체 생성"
   ]
  },
  {
   "cell_type": "code",
   "execution_count": 19,
   "id": "d66e6222",
   "metadata": {},
   "outputs": [
    {
     "data": {
      "text/plain": [
       "<pymysql.connections.Connection at 0x2bd090474d0>"
      ]
     },
     "execution_count": 19,
     "metadata": {},
     "output_type": "execute_result"
    }
   ],
   "source": [
    "proj_db"
   ]
  },
  {
   "cell_type": "code",
   "execution_count": 20,
   "id": "1da2c234",
   "metadata": {},
   "outputs": [
    {
     "name": "stdout",
     "output_type": "stream",
     "text": [
      "<pymysql.cursors.Cursor object at 0x000002BD09047250>\n"
     ]
    }
   ],
   "source": [
    "cursor = proj_db.cursor()\n",
    "print(cursor)"
   ]
  },
  {
   "cell_type": "code",
   "execution_count": 21,
   "id": "7221a3cf",
   "metadata": {},
   "outputs": [],
   "source": [
    "# sql 생성\n",
    "sql_select = 'select * from dept'\n",
    "sql_emp_select = 'select * from emp where deptno = 30'"
   ]
  },
  {
   "cell_type": "code",
   "execution_count": 22,
   "id": "ed58bac4",
   "metadata": {},
   "outputs": [],
   "source": [
    "# sql 실행 요청 => 결과 받아오는 처리\n",
    "cursor.execute(sql_select)\n",
    "result = cursor.fetchall()"
   ]
  },
  {
   "cell_type": "code",
   "execution_count": 23,
   "id": "7d47f45a",
   "metadata": {},
   "outputs": [
    {
     "name": "stdout",
     "output_type": "stream",
     "text": [
      "((10, 'ACCOUNTING', 'NEW YORK', None), (20, 'RESEARCH', 'DALLAS', None), (30, 'SALES', 'CHICAGO', None), (40, 'OPERATIONS', 'BOSTON', None))\n"
     ]
    }
   ],
   "source": [
    "print(result)"
   ]
  },
  {
   "cell_type": "code",
   "execution_count": 24,
   "id": "9b30c471",
   "metadata": {},
   "outputs": [
    {
     "name": "stdout",
     "output_type": "stream",
     "text": [
      "10\tACCOUNTING\tNEW YORK\tNone\t\n",
      "20\tRESEARCH\tDALLAS\tNone\t\n",
      "30\tSALES\tCHICAGO\tNone\t\n",
      "40\tOPERATIONS\tBOSTON\tNone\t\n"
     ]
    }
   ],
   "source": [
    "for dept in result:\n",
    "    #print(dept)\n",
    "    for i in dept :\n",
    "        print(i, end='\\t')\n",
    "    print()"
   ]
  },
  {
   "cell_type": "code",
   "execution_count": 25,
   "id": "ad50772d",
   "metadata": {},
   "outputs": [
    {
     "name": "stdout",
     "output_type": "stream",
     "text": [
      "10\tACCOUNTING\tNEW YORK\tNone\t\n",
      "20\tRESEARCH\tDALLAS\tNone\t\n",
      "30\tSALES\tCHICAGO\tNone\t\n",
      "40\tOPERATIONS\tBOSTON\tNone\t\n"
     ]
    }
   ],
   "source": [
    "for emp in result:\n",
    "    #print(emp)\n",
    "    for i in emp :\n",
    "        print(i, end='\\t')\n",
    "    print()"
   ]
  },
  {
   "cell_type": "code",
   "execution_count": 32,
   "id": "29e34cc1",
   "metadata": {},
   "outputs": [
    {
     "ename": "IntegrityError",
     "evalue": "(1062, \"Duplicate entry '50' for key 'dept.PRIMARY'\")",
     "output_type": "error",
     "traceback": [
      "\u001b[31m---------------------------------------------------------------------------\u001b[39m",
      "\u001b[31mIntegrityError\u001b[39m                            Traceback (most recent call last)",
      "\u001b[36mCell\u001b[39m\u001b[36m \u001b[39m\u001b[32mIn[32]\u001b[39m\u001b[32m, line 4\u001b[39m\n\u001b[32m      1\u001b[39m \u001b[38;5;66;03m# 데이터 입력\u001b[39;00m\n\u001b[32m      2\u001b[39m \u001b[38;5;66;03m# sql 생성\u001b[39;00m\n\u001b[32m      3\u001b[39m sql_insert = \u001b[33m'\u001b[39m\u001b[33minsert into dept (deptno, dname, loc) values(\u001b[39m\u001b[38;5;132;01m%s\u001b[39;00m\u001b[33m, \u001b[39m\u001b[38;5;132;01m%s\u001b[39;00m\u001b[33m, \u001b[39m\u001b[38;5;132;01m%s\u001b[39;00m\u001b[33m)\u001b[39m\u001b[33m'\u001b[39m\n\u001b[32m----> \u001b[39m\u001b[32m4\u001b[39m result_insert_cnt = \u001b[43mcursor\u001b[49m\u001b[43m.\u001b[49m\u001b[43mexecute\u001b[49m\u001b[43m(\u001b[49m\u001b[43msql_insert\u001b[49m\u001b[43m,\u001b[49m\u001b[43m \u001b[49m\u001b[43m(\u001b[49m\u001b[32;43m50\u001b[39;49m\u001b[43m,\u001b[49m\u001b[43m \u001b[49m\u001b[33;43m'\u001b[39;49m\u001b[33;43mDEV\u001b[39;49m\u001b[33;43m'\u001b[39;49m\u001b[43m,\u001b[49m\u001b[43m \u001b[49m\u001b[33;43m'\u001b[39;49m\u001b[33;43mSeoul\u001b[39;49m\u001b[33;43m'\u001b[39;49m\u001b[43m)\u001b[49m\u001b[43m)\u001b[49m \u001b[38;5;66;03m# insert into dept (deptno, dname, loc) values(50, 'DEV', 'Seoul')\u001b[39;00m\n",
      "\u001b[36mFile \u001b[39m\u001b[32mc:\\testpython\\.venv\\Lib\\site-packages\\pymysql\\cursors.py:153\u001b[39m, in \u001b[36mCursor.execute\u001b[39m\u001b[34m(self, query, args)\u001b[39m\n\u001b[32m    149\u001b[39m     \u001b[38;5;28;01mpass\u001b[39;00m\n\u001b[32m    151\u001b[39m query = \u001b[38;5;28mself\u001b[39m.mogrify(query, args)\n\u001b[32m--> \u001b[39m\u001b[32m153\u001b[39m result = \u001b[38;5;28;43mself\u001b[39;49m\u001b[43m.\u001b[49m\u001b[43m_query\u001b[49m\u001b[43m(\u001b[49m\u001b[43mquery\u001b[49m\u001b[43m)\u001b[49m\n\u001b[32m    154\u001b[39m \u001b[38;5;28mself\u001b[39m._executed = query\n\u001b[32m    155\u001b[39m \u001b[38;5;28;01mreturn\u001b[39;00m result\n",
      "\u001b[36mFile \u001b[39m\u001b[32mc:\\testpython\\.venv\\Lib\\site-packages\\pymysql\\cursors.py:322\u001b[39m, in \u001b[36mCursor._query\u001b[39m\u001b[34m(self, q)\u001b[39m\n\u001b[32m    320\u001b[39m conn = \u001b[38;5;28mself\u001b[39m._get_db()\n\u001b[32m    321\u001b[39m \u001b[38;5;28mself\u001b[39m._clear_result()\n\u001b[32m--> \u001b[39m\u001b[32m322\u001b[39m \u001b[43mconn\u001b[49m\u001b[43m.\u001b[49m\u001b[43mquery\u001b[49m\u001b[43m(\u001b[49m\u001b[43mq\u001b[49m\u001b[43m)\u001b[49m\n\u001b[32m    323\u001b[39m \u001b[38;5;28mself\u001b[39m._do_get_result()\n\u001b[32m    324\u001b[39m \u001b[38;5;28;01mreturn\u001b[39;00m \u001b[38;5;28mself\u001b[39m.rowcount\n",
      "\u001b[36mFile \u001b[39m\u001b[32mc:\\testpython\\.venv\\Lib\\site-packages\\pymysql\\connections.py:563\u001b[39m, in \u001b[36mConnection.query\u001b[39m\u001b[34m(self, sql, unbuffered)\u001b[39m\n\u001b[32m    561\u001b[39m     sql = sql.encode(\u001b[38;5;28mself\u001b[39m.encoding, \u001b[33m\"\u001b[39m\u001b[33msurrogateescape\u001b[39m\u001b[33m\"\u001b[39m)\n\u001b[32m    562\u001b[39m \u001b[38;5;28mself\u001b[39m._execute_command(COMMAND.COM_QUERY, sql)\n\u001b[32m--> \u001b[39m\u001b[32m563\u001b[39m \u001b[38;5;28mself\u001b[39m._affected_rows = \u001b[38;5;28;43mself\u001b[39;49m\u001b[43m.\u001b[49m\u001b[43m_read_query_result\u001b[49m\u001b[43m(\u001b[49m\u001b[43munbuffered\u001b[49m\u001b[43m=\u001b[49m\u001b[43munbuffered\u001b[49m\u001b[43m)\u001b[49m\n\u001b[32m    564\u001b[39m \u001b[38;5;28;01mreturn\u001b[39;00m \u001b[38;5;28mself\u001b[39m._affected_rows\n",
      "\u001b[36mFile \u001b[39m\u001b[32mc:\\testpython\\.venv\\Lib\\site-packages\\pymysql\\connections.py:825\u001b[39m, in \u001b[36mConnection._read_query_result\u001b[39m\u001b[34m(self, unbuffered)\u001b[39m\n\u001b[32m    823\u001b[39m \u001b[38;5;28;01melse\u001b[39;00m:\n\u001b[32m    824\u001b[39m     result = MySQLResult(\u001b[38;5;28mself\u001b[39m)\n\u001b[32m--> \u001b[39m\u001b[32m825\u001b[39m     \u001b[43mresult\u001b[49m\u001b[43m.\u001b[49m\u001b[43mread\u001b[49m\u001b[43m(\u001b[49m\u001b[43m)\u001b[49m\n\u001b[32m    826\u001b[39m \u001b[38;5;28mself\u001b[39m._result = result\n\u001b[32m    827\u001b[39m \u001b[38;5;28;01mif\u001b[39;00m result.server_status \u001b[38;5;129;01mis\u001b[39;00m \u001b[38;5;129;01mnot\u001b[39;00m \u001b[38;5;28;01mNone\u001b[39;00m:\n",
      "\u001b[36mFile \u001b[39m\u001b[32mc:\\testpython\\.venv\\Lib\\site-packages\\pymysql\\connections.py:1199\u001b[39m, in \u001b[36mMySQLResult.read\u001b[39m\u001b[34m(self)\u001b[39m\n\u001b[32m   1197\u001b[39m \u001b[38;5;28;01mdef\u001b[39;00m\u001b[38;5;250m \u001b[39m\u001b[34mread\u001b[39m(\u001b[38;5;28mself\u001b[39m):\n\u001b[32m   1198\u001b[39m     \u001b[38;5;28;01mtry\u001b[39;00m:\n\u001b[32m-> \u001b[39m\u001b[32m1199\u001b[39m         first_packet = \u001b[38;5;28;43mself\u001b[39;49m\u001b[43m.\u001b[49m\u001b[43mconnection\u001b[49m\u001b[43m.\u001b[49m\u001b[43m_read_packet\u001b[49m\u001b[43m(\u001b[49m\u001b[43m)\u001b[49m\n\u001b[32m   1201\u001b[39m         \u001b[38;5;28;01mif\u001b[39;00m first_packet.is_ok_packet():\n\u001b[32m   1202\u001b[39m             \u001b[38;5;28mself\u001b[39m._read_ok_packet(first_packet)\n",
      "\u001b[36mFile \u001b[39m\u001b[32mc:\\testpython\\.venv\\Lib\\site-packages\\pymysql\\connections.py:775\u001b[39m, in \u001b[36mConnection._read_packet\u001b[39m\u001b[34m(self, packet_type)\u001b[39m\n\u001b[32m    773\u001b[39m     \u001b[38;5;28;01mif\u001b[39;00m \u001b[38;5;28mself\u001b[39m._result \u001b[38;5;129;01mis\u001b[39;00m \u001b[38;5;129;01mnot\u001b[39;00m \u001b[38;5;28;01mNone\u001b[39;00m \u001b[38;5;129;01mand\u001b[39;00m \u001b[38;5;28mself\u001b[39m._result.unbuffered_active \u001b[38;5;129;01mis\u001b[39;00m \u001b[38;5;28;01mTrue\u001b[39;00m:\n\u001b[32m    774\u001b[39m         \u001b[38;5;28mself\u001b[39m._result.unbuffered_active = \u001b[38;5;28;01mFalse\u001b[39;00m\n\u001b[32m--> \u001b[39m\u001b[32m775\u001b[39m     \u001b[43mpacket\u001b[49m\u001b[43m.\u001b[49m\u001b[43mraise_for_error\u001b[49m\u001b[43m(\u001b[49m\u001b[43m)\u001b[49m\n\u001b[32m    776\u001b[39m \u001b[38;5;28;01mreturn\u001b[39;00m packet\n",
      "\u001b[36mFile \u001b[39m\u001b[32mc:\\testpython\\.venv\\Lib\\site-packages\\pymysql\\protocol.py:219\u001b[39m, in \u001b[36mMysqlPacket.raise_for_error\u001b[39m\u001b[34m(self)\u001b[39m\n\u001b[32m    217\u001b[39m \u001b[38;5;28;01mif\u001b[39;00m DEBUG:\n\u001b[32m    218\u001b[39m     \u001b[38;5;28mprint\u001b[39m(\u001b[33m\"\u001b[39m\u001b[33merrno =\u001b[39m\u001b[33m\"\u001b[39m, errno)\n\u001b[32m--> \u001b[39m\u001b[32m219\u001b[39m \u001b[43merr\u001b[49m\u001b[43m.\u001b[49m\u001b[43mraise_mysql_exception\u001b[49m\u001b[43m(\u001b[49m\u001b[38;5;28;43mself\u001b[39;49m\u001b[43m.\u001b[49m\u001b[43m_data\u001b[49m\u001b[43m)\u001b[49m\n",
      "\u001b[36mFile \u001b[39m\u001b[32mc:\\testpython\\.venv\\Lib\\site-packages\\pymysql\\err.py:150\u001b[39m, in \u001b[36mraise_mysql_exception\u001b[39m\u001b[34m(data)\u001b[39m\n\u001b[32m    148\u001b[39m \u001b[38;5;28;01mif\u001b[39;00m errorclass \u001b[38;5;129;01mis\u001b[39;00m \u001b[38;5;28;01mNone\u001b[39;00m:\n\u001b[32m    149\u001b[39m     errorclass = InternalError \u001b[38;5;28;01mif\u001b[39;00m errno < \u001b[32m1000\u001b[39m \u001b[38;5;28;01melse\u001b[39;00m OperationalError\n\u001b[32m--> \u001b[39m\u001b[32m150\u001b[39m \u001b[38;5;28;01mraise\u001b[39;00m errorclass(errno, errval)\n",
      "\u001b[31mIntegrityError\u001b[39m: (1062, \"Duplicate entry '50' for key 'dept.PRIMARY'\")"
     ]
    }
   ],
   "source": [
    "# 데이터 입력\n",
    "# sql 생성\n",
    "sql_insert = 'insert into dept (deptno, dname, loc) values(%s, %s, %s)'\n",
    "result_insert_cnt = cursor.execute(sql_insert, (50, 'DEV', 'Seoul')) # insert into dept (deptno, dname, loc) values(50, 'DEV', 'Seoul')"
   ]
  },
  {
   "cell_type": "code",
   "execution_count": 31,
   "id": "f8670bc6",
   "metadata": {},
   "outputs": [],
   "source": [
    "proj_db.commit() # insert, update, delete => commit"
   ]
  },
  {
   "cell_type": "code",
   "execution_count": 35,
   "id": "9e893213",
   "metadata": {},
   "outputs": [
    {
     "data": {
      "text/plain": [
       "1"
      ]
     },
     "execution_count": 35,
     "metadata": {},
     "output_type": "execute_result"
    }
   ],
   "source": [
    "result_insert_cnt"
   ]
  },
  {
   "cell_type": "code",
   "execution_count": 36,
   "id": "004792be",
   "metadata": {},
   "outputs": [
    {
     "name": "stdout",
     "output_type": "stream",
     "text": [
      "result : 1\n"
     ]
    }
   ],
   "source": [
    "# 데이터 수정 : 행단위 수정\n",
    "sql_update = 'update dept set loc=%s where deptno = %s'\n",
    "result_update_cnt = cursor.execute(sql_update, ('BUSAN', 50)) # update dept set loc='BUSAN' where deptno = 50\n",
    "print('result :', result_update_cnt)"
   ]
  },
  {
   "cell_type": "code",
   "execution_count": 37,
   "id": "d2c931a4",
   "metadata": {},
   "outputs": [],
   "source": [
    "proj_db.commit()"
   ]
  },
  {
   "cell_type": "code",
   "execution_count": null,
   "id": "a832b337",
   "metadata": {},
   "outputs": [
    {
     "name": "stdout",
     "output_type": "stream",
     "text": [
      "0\n",
      "삭제되지 않았습니다.\n"
     ]
    }
   ],
   "source": [
    "# 데이터 삭제 : 헹단위 삭제\n",
    "sql_delete_cnt = cursor.execute('delete from dept where deptno=%s', (50))\n",
    "print(sql_delete_cnt)\n",
    "if sql_delete_cnt :\n",
    "    print('삭제되었습니다.')\n",
    "else:\n",
    "    print('삭제된 부서가 없습니다.')\n",
    "\n",
    "proj_db.commit()"
   ]
  },
  {
   "cell_type": "code",
   "execution_count": 43,
   "id": "b0f3fe2d",
   "metadata": {},
   "outputs": [],
   "source": [
    "# 연결 종료\n",
    "proj_db.close()"
   ]
  },
  {
   "cell_type": "code",
   "execution_count": null,
   "id": "b15f09eb",
   "metadata": {},
   "outputs": [],
   "source": []
  }
 ],
 "metadata": {
  "kernelspec": {
   "display_name": ".venv",
   "language": "python",
   "name": "python3"
  },
  "language_info": {
   "codemirror_mode": {
    "name": "ipython",
    "version": 3
   },
   "file_extension": ".py",
   "mimetype": "text/x-python",
   "name": "python",
   "nbconvert_exporter": "python",
   "pygments_lexer": "ipython3",
   "version": "3.13.3"
  }
 },
 "nbformat": 4,
 "nbformat_minor": 5
}
