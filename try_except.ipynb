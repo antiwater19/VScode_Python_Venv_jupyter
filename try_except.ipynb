{
 "cells": [
  {
   "cell_type": "code",
   "execution_count": 4,
   "id": "fb11b28d",
   "metadata": {},
   "outputs": [
    {
     "name": "stdout",
     "output_type": "stream",
     "text": [
      "프로그램 종료\n"
     ]
    }
   ],
   "source": [
    "# 예외처리 : 에러가 발생했을 때 비정상적인 종료를 막기위한 처리\n",
    "# try : ... except: [error type as 별칭] : .... finally : ...\n",
    "try :\n",
    "    result = 4/0\n",
    "    print(result)\n",
    "except ZeroDivisionError as e:\n",
    "    pass\n",
    "\n",
    "print('프로그램 종료')"
   ]
  },
  {
   "cell_type": "code",
   "execution_count": 7,
   "id": "6ed4ba5a",
   "metadata": {},
   "outputs": [
    {
     "ename": "IndexError",
     "evalue": "list index out of range",
     "output_type": "error",
     "traceback": [
      "\u001b[31m---------------------------------------------------------------------------\u001b[39m",
      "\u001b[31mIndexError\u001b[39m                                Traceback (most recent call last)",
      "\u001b[36mCell\u001b[39m\u001b[36m \u001b[39m\u001b[32mIn[7]\u001b[39m\u001b[32m, line 2\u001b[39m\n\u001b[32m      1\u001b[39m list_1 = [\u001b[32m1\u001b[39m, \u001b[32m2\u001b[39m, \u001b[32m3\u001b[39m]\n\u001b[32m----> \u001b[39m\u001b[32m2\u001b[39m \u001b[38;5;28mprint\u001b[39m(\u001b[43mlist_1\u001b[49m\u001b[43m[\u001b[49m\u001b[32;43m5\u001b[39;49m\u001b[43m]\u001b[49m)\n",
      "\u001b[31mIndexError\u001b[39m: list index out of range"
     ]
    }
   ],
   "source": [
    "list_1 = [1, 2, 3]\n",
    "print(list_1[5])"
   ]
  },
  {
   "cell_type": "code",
   "execution_count": 1,
   "id": "9d281a68",
   "metadata": {},
   "outputs": [
    {
     "ename": "NameError",
     "evalue": "name 'username' is not defined",
     "output_type": "error",
     "traceback": [
      "\u001b[31m---------------------------------------------------------------------------\u001b[39m",
      "\u001b[31mNameError\u001b[39m                                 Traceback (most recent call last)",
      "\u001b[36mCell\u001b[39m\u001b[36m \u001b[39m\u001b[32mIn[1]\u001b[39m\u001b[32m, line 1\u001b[39m\n\u001b[32m----> \u001b[39m\u001b[32m1\u001b[39m \u001b[38;5;28mprint\u001b[39m(\u001b[43musername\u001b[49m)\n",
      "\u001b[31mNameError\u001b[39m: name 'username' is not defined"
     ]
    }
   ],
   "source": [
    "print(username)"
   ]
  },
  {
   "cell_type": "code",
   "execution_count": null,
   "id": "c414886e",
   "metadata": {},
   "outputs": [
    {
     "name": "stdout",
     "output_type": "stream",
     "text": [
      "정의되지 않은 식별자 입니다.\n"
     ]
    }
   ],
   "source": [
    "try :\n",
    "    4/2\n",
    "    print(user_name)\n",
    "    list_1[5]\n",
    "except ZeroDivisionError as e:\n",
    "    print('0으로 나눌 수 없습니다.')\n",
    "    pass\n",
    "except IndexError as e:\n",
    "    print('정상적인 index값이 아닙니다.')\n",
    "    pass\n",
    "except NameError as e:\n",
    "    print('정의되지 않은 식별자 입니다.') \n",
    "    pass\n",
    "except : # 모든 예외 이거는 항상 마지막에 써줘야 한다.\n",
    "    print('알 수 없는 에러입니다.')\n",
    "    pass"
   ]
  },
  {
   "cell_type": "code",
   "execution_count": 11,
   "id": "19cd8d36",
   "metadata": {},
   "outputs": [
    {
     "name": "stdout",
     "output_type": "stream",
     "text": [
      "에러발생\n",
      "finally : 에러 발생 여부와 상관 없이 무조건 실행\n"
     ]
    }
   ],
   "source": [
    "# try ~ except ~ finally ~ \n",
    "# 에러발생 여부와 상관없이 finally는 무조건 실행됨\n",
    "try :\n",
    "    10/0\n",
    "except :\n",
    "    print('에러발생')\n",
    "finally :\n",
    "    print('finally : 에러 발생 여부와 상관 없이 무조건 실행')"
   ]
  },
  {
   "cell_type": "code",
   "execution_count": 14,
   "id": "c7a236e5",
   "metadata": {},
   "outputs": [],
   "source": [
    "try :\n",
    "    file = open('newFile.txt', 'r')\n",
    "except :\n",
    "    pass\n",
    "finally :\n",
    "    file.close()"
   ]
  },
  {
   "cell_type": "code",
   "execution_count": 17,
   "id": "4cc7d729",
   "metadata": {},
   "outputs": [
    {
     "ename": "NameError",
     "evalue": "",
     "output_type": "error",
     "traceback": [
      "\u001b[31m---------------------------------------------------------------------------\u001b[39m",
      "\u001b[31mNameError\u001b[39m                                 Traceback (most recent call last)",
      "\u001b[36mCell\u001b[39m\u001b[36m \u001b[39m\u001b[32mIn[17]\u001b[39m\u001b[32m, line 3\u001b[39m\n\u001b[32m      1\u001b[39m \u001b[38;5;66;03m# 강제적으로 에러 발생 시키는 경우 => 논리적인 에러\u001b[39;00m\n\u001b[32m      2\u001b[39m \u001b[38;5;66;03m# raise 에러타입\u001b[39;00m\n\u001b[32m----> \u001b[39m\u001b[32m3\u001b[39m \u001b[38;5;28;01mraise\u001b[39;00m \u001b[38;5;167;01mNameError\u001b[39;00m\n",
      "\u001b[31mNameError\u001b[39m: "
     ]
    }
   ],
   "source": [
    "# 강제적으로 에러 발생 시키는 경우 => 논리적인 에러\n",
    "# raise 에러타입\n",
    "raise NameError"
   ]
  },
  {
   "cell_type": "code",
   "execution_count": 20,
   "id": "4bc0b21f",
   "metadata": {},
   "outputs": [],
   "source": [
    "# 프로그래머가 정의하는 에러 타입\n",
    "# class => 객체를 만들기 위한 틀(설계도)\n",
    "# 상속 => Exception\n",
    "# class 이름(부모클래스)\n",
    "#    변수들\n",
    "#    함수들\n",
    "\n",
    "class MyError(Exception):\n",
    "    def __str__(self) -> str:\n",
    "        return '정상적인 나이를 입력하세요'"
   ]
  },
  {
   "cell_type": "code",
   "execution_count": null,
   "id": "0796dce8",
   "metadata": {},
   "outputs": [
    {
     "ename": "MyError",
     "evalue": "정상적인 나이를 입력하세요",
     "output_type": "error",
     "traceback": [
      "\u001b[31m---------------------------------------------------------------------------\u001b[39m",
      "\u001b[31mMyError\u001b[39m                                   Traceback (most recent call last)",
      "\u001b[36mCell\u001b[39m\u001b[36m \u001b[39m\u001b[32mIn[21]\u001b[39m\u001b[32m, line 1\u001b[39m\n\u001b[32m----> \u001b[39m\u001b[32m1\u001b[39m \u001b[38;5;28;01mraise\u001b[39;00m MyError\n",
      "\u001b[31mMyError\u001b[39m: 정상적인 나이를 입력하세요"
     ]
    }
   ],
   "source": [
    "raise MyError()"
   ]
  },
  {
   "cell_type": "code",
   "execution_count": 27,
   "id": "19a9fb5e",
   "metadata": {},
   "outputs": [
    {
     "name": "stdout",
     "output_type": "stream",
     "text": [
      "나이 100\n",
      "프로그램 종료\n"
     ]
    }
   ],
   "source": [
    "user_age = 100# int(input('나이를 입력하세요 : '))\n",
    "\n",
    "try :\n",
    "    if not (user_age>=0 and user_age<=200):\n",
    "        raise MyError()\n",
    "    print('나이', user_age)\n",
    "except MyError as e:\n",
    "    print(e)\n",
    "\n",
    "print('프로그램 종료')"
   ]
  },
  {
   "cell_type": "code",
   "execution_count": 28,
   "id": "55a8752d",
   "metadata": {},
   "outputs": [
    {
     "data": {
      "text/plain": [
       "int"
      ]
     },
     "execution_count": 28,
     "metadata": {},
     "output_type": "execute_result"
    }
   ],
   "source": [
    "type(user_age)\n",
    "# type() : 자료형 확인"
   ]
  }
 ],
 "metadata": {
  "kernelspec": {
   "display_name": ".venv",
   "language": "python",
   "name": "python3"
  },
  "language_info": {
   "codemirror_mode": {
    "name": "ipython",
    "version": 3
   },
   "file_extension": ".py",
   "mimetype": "text/x-python",
   "name": "python",
   "nbconvert_exporter": "python",
   "pygments_lexer": "ipython3",
   "version": "3.13.3"
  }
 },
 "nbformat": 4,
 "nbformat_minor": 5
}
