{
 "cells": [
  {
   "cell_type": "code",
   "execution_count": 60,
   "id": "03be59a5",
   "metadata": {},
   "outputs": [],
   "source": [
    "# 시간 정보\n",
    "# 시, 분, 초 : 14시 46분 30초\n",
    "# 예약 시간\n",
    "h = 14\n",
    "m = 46\n",
    "s = 30\n",
    "\n",
    "# Time 새로운 타입 => 시간, 분, 초 : 변수 3개를 가지는 class -> 객체를 생성(변수 3개를 메모리에 로드)\n",
    "class Time():\n",
    "    def __init__(self, h, m, s): # 클래스 안에서 함수정의 할때는 self를 반드시 넣어야 한다.\n",
    "        self.hour = h\n",
    "        self.min = m\n",
    "        self.sec = s"
   ]
  },
  {
   "cell_type": "code",
   "execution_count": 76,
   "id": "5127e053",
   "metadata": {},
   "outputs": [],
   "source": [
    "time_1 = Time(14, 53, 15)"
   ]
  },
  {
   "cell_type": "code",
   "execution_count": 62,
   "id": "df15a05a",
   "metadata": {},
   "outputs": [
    {
     "name": "stdout",
     "output_type": "stream",
     "text": [
      "14 53 15\n"
     ]
    }
   ],
   "source": [
    "print(time_1.hour, time_1.min, time_1.sec) # 이런식으로 클래스 값을 불러냄"
   ]
  },
  {
   "cell_type": "code",
   "execution_count": 63,
   "id": "97b15a42",
   "metadata": {},
   "outputs": [],
   "source": [
    "time_2 = Time(14, 56, 00) "
   ]
  },
  {
   "cell_type": "code",
   "execution_count": 64,
   "id": "ba97d1c7",
   "metadata": {},
   "outputs": [
    {
     "name": "stdout",
     "output_type": "stream",
     "text": [
      "14 56 0\n"
     ]
    }
   ],
   "source": [
    "print(time_2.hour, time_2.min, time_2.sec)"
   ]
  },
  {
   "cell_type": "code",
   "execution_count": 65,
   "id": "7c493c11",
   "metadata": {},
   "outputs": [
    {
     "data": {
      "text/plain": [
       "__main__.Time"
      ]
     },
     "execution_count": 65,
     "metadata": {},
     "output_type": "execute_result"
    }
   ],
   "source": [
    "type(time_1)"
   ]
  },
  {
   "cell_type": "code",
   "execution_count": 66,
   "id": "396600d3",
   "metadata": {},
   "outputs": [],
   "source": [
    "# 사칙연산 클래스 \n",
    "# 값 두개를 가지고\n",
    "# 사칙연산하는 기능\n",
    "class FourCal:\n",
    "    # 생성자를 이용해서 변수 초기화\n",
    "    def __init__(self, first, second):\n",
    "        self.first = first\n",
    "        self.second = second\n",
    "\n",
    "    def __str__(self):\n",
    "        return f'first = {self.first}, second = {self.second}'\n",
    "    # __str__ 메서드 : print() 함수로 객체를 출력할 때 호출되는 메서드\n",
    "\n",
    "\n",
    "    # 변수 생성, 값을 할당 함수 => 메서드\n",
    "    def setdata(self, first, second):\n",
    "        self.first = first\n",
    "        self.second = second\n",
    "    \n",
    "    def add(self):\n",
    "        return self.first + self.second\n",
    "    \n",
    "    def mul(self):\n",
    "        return self.first * self.second\n",
    "    \n",
    "    def sub(self):\n",
    "        return self.first - self.second\n",
    "    \n",
    "    def div(self):\n",
    "        return self.first / self.second"
   ]
  },
  {
   "cell_type": "code",
   "execution_count": 67,
   "id": "2303671b",
   "metadata": {},
   "outputs": [],
   "source": [
    "#cal_1 = FourCal() # FourCal (객체생성) -> __init__(self, first, second)\n",
    "cal_1 = FourCal(4, 2) # 객체 생성과 동시에 변수 초기화"
   ]
  },
  {
   "cell_type": "code",
   "execution_count": 68,
   "id": "a9118bee",
   "metadata": {},
   "outputs": [
    {
     "name": "stdout",
     "output_type": "stream",
     "text": [
      "4 2\n"
     ]
    }
   ],
   "source": [
    "cal_1.setdata(4, 2)\n",
    "print(cal_1.first, cal_1.second)"
   ]
  },
  {
   "cell_type": "code",
   "execution_count": 69,
   "id": "775ac3c3",
   "metadata": {},
   "outputs": [
    {
     "data": {
      "text/plain": [
       "__main__.FourCal"
      ]
     },
     "execution_count": 69,
     "metadata": {},
     "output_type": "execute_result"
    }
   ],
   "source": [
    "type(cal_1)"
   ]
  },
  {
   "cell_type": "code",
   "execution_count": 70,
   "id": "12e54ca6",
   "metadata": {},
   "outputs": [
    {
     "name": "stdout",
     "output_type": "stream",
     "text": [
      "6\n",
      "8\n",
      "2\n",
      "2.0\n"
     ]
    }
   ],
   "source": [
    "print(cal_1.add())\n",
    "print(cal_1.mul())\n",
    "print(cal_1.sub())\n",
    "print(cal_1.div())"
   ]
  },
  {
   "cell_type": "code",
   "execution_count": 71,
   "id": "c539acf1",
   "metadata": {},
   "outputs": [
    {
     "data": {
      "text/plain": [
       "__main__.FourCal"
      ]
     },
     "execution_count": 71,
     "metadata": {},
     "output_type": "execute_result"
    }
   ],
   "source": [
    "type(cal_1)"
   ]
  },
  {
   "cell_type": "code",
   "execution_count": 72,
   "id": "538debe5",
   "metadata": {},
   "outputs": [],
   "source": [
    "# 상속 : 물려 받는다 -> 다 내꺼!\n",
    "# 상속을 하는 이유 -> 새로운 클래스를 만들기!\n",
    "# class 클래스이름(상속할 클래스이름)\n",
    "class MoreFourCal(FourCal):\n",
    "    \n",
    "    def pow(self):\n",
    "        return self.first**self.second\n",
    "    \n",
    "    def div(self):\n",
    "        if self.second == 0:\n",
    "            return 0\n",
    "        else : \n",
    "            return self.first / self.second"
   ]
  },
  {
   "cell_type": "code",
   "execution_count": 73,
   "id": "2e1f6b16",
   "metadata": {},
   "outputs": [],
   "source": [
    "mcal_1 = MoreFourCal(4, 0)"
   ]
  },
  {
   "cell_type": "code",
   "execution_count": 74,
   "id": "fbdcb229",
   "metadata": {},
   "outputs": [
    {
     "name": "stdout",
     "output_type": "stream",
     "text": [
      "first = 4, second = 0\n",
      "4\n",
      "4\n",
      "0\n",
      "0\n",
      "1\n"
     ]
    }
   ],
   "source": [
    "print(mcal_1)\n",
    "print(mcal_1.add())\n",
    "print(mcal_1.sub())\n",
    "print(mcal_1.mul())\n",
    "print(mcal_1.div())\n",
    "print(mcal_1.pow())"
   ]
  },
  {
   "cell_type": "code",
   "execution_count": 75,
   "id": "c93cb9cd",
   "metadata": {},
   "outputs": [],
   "source": [
    "# 매서드의 오버라이딩 : 부모 클래스에 있는 매서드를 동일한 이름으로 처리 블록만 재구성 \n"
   ]
  }
 ],
 "metadata": {
  "kernelspec": {
   "display_name": ".venv",
   "language": "python",
   "name": "python3"
  },
  "language_info": {
   "codemirror_mode": {
    "name": "ipython",
    "version": 3
   },
   "file_extension": ".py",
   "mimetype": "text/x-python",
   "name": "python",
   "nbconvert_exporter": "python",
   "pygments_lexer": "ipython3",
   "version": "3.13.3"
  }
 },
 "nbformat": 4,
 "nbformat_minor": 5
}
