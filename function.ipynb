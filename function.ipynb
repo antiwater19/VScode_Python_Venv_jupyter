{
 "cells": [
  {
   "cell_type": "code",
   "execution_count": 1,
   "id": "cc1f76c4",
   "metadata": {},
   "outputs": [],
   "source": [
    "# 함수 : 데이터를 받아서 처리(데이터의 가공)하고 결과 데이터\n",
    "# def 함수이름([매개변수1, 매개변수2, ...]) :\n",
    "#     처리할 문장\n",
    "#     [return [결과값]] 함수의 종료, 값을 반환\n",
    "\n",
    "# add 함수\n",
    "# 숫자 두개를 받아서 \n",
    "# 덧샘의 결과를 반환\n",
    "def add(n1, n2):\n",
    "    result = n1 + n2 # 데이터 처리\n",
    "    return result # 결과값 반환"
   ]
  },
  {
   "cell_type": "code",
   "execution_count": null,
   "id": "14a09d9b",
   "metadata": {},
   "outputs": [
    {
     "data": {
      "text/plain": [
       "30"
      ]
     },
     "execution_count": 2,
     "metadata": {},
     "output_type": "execute_result"
    }
   ],
   "source": [
    "# add()\n",
    "add(10, 20) # 함수 호출"
   ]
  },
  {
   "cell_type": "code",
   "execution_count": null,
   "id": "543ee74a",
   "metadata": {},
   "outputs": [
    {
     "name": "stdout",
     "output_type": "stream",
     "text": [
      "\n",
      "    1. list\n",
      "    2. insert\n",
      "    3. search\n",
      "    4. delete\n",
      "    5. exit\n",
      "    \n"
     ]
    }
   ],
   "source": [
    "# 매개변수가 없는 함수, 반환값도 없는 함수\n",
    "def display_menu():\n",
    "    menu = '''\n",
    "    1. list\n",
    "    2. insert\n",
    "    3. search\n",
    "    4. delete\n",
    "    5. exit\n",
    "    '''\n",
    "    print(menu)\n",
    "    \n",
    "display_menu() # 함수 호출"
   ]
  },
  {
   "cell_type": "code",
   "execution_count": 2,
   "id": "ffb39259",
   "metadata": {},
   "outputs": [],
   "source": [
    "# 매개변수가 있고 반환이 없는 함수\n",
    "# 숫자 두개를 받아서 => 매개변수\n",
    "# 덧샘연산 결과를 출력하는 => 처리\n",
    "# 함수\n",
    "def add_print(num1, num2):\n",
    "    print(f'{num1}+{num2}={num1+num2}')"
   ]
  },
  {
   "cell_type": "code",
   "execution_count": 8,
   "id": "cdd838af",
   "metadata": {},
   "outputs": [
    {
     "name": "stdout",
     "output_type": "stream",
     "text": [
      "100+5=105\n"
     ]
    }
   ],
   "source": [
    "add_print(100, 5) # 함수 호출"
   ]
  },
  {
   "cell_type": "code",
   "execution_count": null,
   "id": "305f151f",
   "metadata": {},
   "outputs": [
    {
     "name": "stdout",
     "output_type": "stream",
     "text": [
      "1+5=6\n",
      "None\n"
     ]
    }
   ],
   "source": [
    "# None\n",
    "result1 = add_print(1, 5) # None\n",
    "print(result1) # 함수가 결과를 반환하는 return이 없어서 None을 반환하게 된다.\n"
   ]
  },
  {
   "cell_type": "code",
   "execution_count": 5,
   "id": "b4547a6a",
   "metadata": {},
   "outputs": [],
   "source": [
    "# 매개변수 지정해서 호출\n",
    "def sub(n1, n2):\n",
    "    result = n1-n2\n",
    "    return result"
   ]
  },
  {
   "cell_type": "code",
   "execution_count": 6,
   "id": "4204f112",
   "metadata": {},
   "outputs": [
    {
     "name": "stdout",
     "output_type": "stream",
     "text": [
      "9\n",
      "8\n"
     ]
    }
   ],
   "source": [
    "print(sub(10, 1))\n",
    "print(sub(n2=2, n1=10)) # 매개변수 지정해서 호출"
   ]
  },
  {
   "cell_type": "code",
   "execution_count": 7,
   "id": "ab535b86",
   "metadata": {},
   "outputs": [
    {
     "name": "stdout",
     "output_type": "stream",
     "text": [
      "a 1 4 v 6 7 8 9\n"
     ]
    }
   ],
   "source": [
    "# 가변 매개변수 (몇개가 올지 모를 때)\n",
    "print('a',1,4,'v',6,7,8,9)"
   ]
  },
  {
   "cell_type": "code",
   "execution_count": null,
   "id": "b396c3ae",
   "metadata": {},
   "outputs": [],
   "source": [
    "# 전달되는 숫자들(?)의 합을 반환하는 함수\n",
    "def sum_all(name, *args): # name 뒤쪽으로 오는 변수들을 tuple로 받는다.\n",
    "    print(name)\n",
    "    sum = 0\n",
    "    for n in args: # n은 args의 요소들\n",
    "        sum += n\n",
    "    print(sum)\n",
    "    return sum"
   ]
  },
  {
   "cell_type": "code",
   "execution_count": null,
   "id": "f5139e22",
   "metadata": {},
   "outputs": [
    {
     "name": "stdout",
     "output_type": "stream",
     "text": [
      "sum\n",
      "6\n",
      "1+2+3= 6\n"
     ]
    }
   ],
   "source": [
    "result2 = sum_all('sum', 1, 2, 3) # 가변 매개변수 \n",
    "print('1+2+3=', result2)"
   ]
  },
  {
   "cell_type": "code",
   "execution_count": 20,
   "id": "de031e94",
   "metadata": {},
   "outputs": [],
   "source": [
    "def say_hello(name, age, gender):\n",
    "    print(f'안녕하세요! {name}입니다.', end='\\t')\n",
    "    print(f'나이는 {age}살 입니다.', end='\\t')\n",
    "    print(gender)"
   ]
  },
  {
   "cell_type": "code",
   "execution_count": 21,
   "id": "7dc6059d",
   "metadata": {},
   "outputs": [
    {
     "name": "stdout",
     "output_type": "stream",
     "text": [
      "안녕하세요! scott입니다.\t나이는 20살 입니다.\tstr\n"
     ]
    }
   ],
   "source": [
    "say_hello('scott', '20', gender='str')"
   ]
  },
  {
   "cell_type": "code",
   "execution_count": 27,
   "id": "0dddf99e",
   "metadata": {},
   "outputs": [],
   "source": [
    "# 함수의 변환 : return value(단일 데이터)\n",
    "# 반환 데이터 타입 : tuple (1,2,3,4,5), dict{'name':'K', 'age':20, ...}, list[1,2,3,4,5]\n",
    "def add_mul(n1=1, n2=1):\n",
    "    return (n1+n2, n1*n2) # tuple로 반환"
   ]
  },
  {
   "cell_type": "code",
   "execution_count": 24,
   "id": "8fb0a1e9",
   "metadata": {},
   "outputs": [
    {
     "name": "stdout",
     "output_type": "stream",
     "text": [
      "(13, 30)\n",
      "13 30\n"
     ]
    }
   ],
   "source": [
    "result4 = add_mul(10, 3)\n",
    "num_1, num_2 = add_mul(10, 3)\n",
    "print(result4)\n",
    "print(num_1, num_2)"
   ]
  },
  {
   "cell_type": "code",
   "execution_count": 30,
   "id": "1581c5ef",
   "metadata": {},
   "outputs": [],
   "source": [
    "g_num = 100\n",
    "\n",
    "def test(tnum):\n",
    "    print(tnum)\n",
    "    tnum2 = 2\n",
    "    print(tnum2)\n",
    "    print(g_num)"
   ]
  },
  {
   "cell_type": "code",
   "execution_count": 33,
   "id": "2fb33db2",
   "metadata": {},
   "outputs": [
    {
     "name": "stdout",
     "output_type": "stream",
     "text": [
      "100\n",
      "********************\n",
      "10\n",
      "2\n",
      "100\n",
      "\n"
     ]
    }
   ],
   "source": [
    "print(g_num)\n",
    "print('*'*20)\n",
    "test(10)\n",
    "print()"
   ]
  },
  {
   "cell_type": "code",
   "execution_count": null,
   "id": "23a604b0",
   "metadata": {},
   "outputs": [],
   "source": [
    "# lambda 함수 : 함수를 하나의 라인으로 처리 \n",
    "# 익명함수 : 이름이 없는 함수\n",
    "# 함수 => 객체 => 변수=함수 => 매개변수=함수\n",
    "# 함수를 간단하게 만드는 거다.\n",
    "# 람다함수의 정의\n",
    "add = lambda a, b : a+b # a+b를 반환하는 함수"
   ]
  },
  {
   "cell_type": "code",
   "execution_count": null,
   "id": "964f9bab",
   "metadata": {},
   "outputs": [],
   "source": [
    "result = add(10, 3)\n",
    "print(result)"
   ]
  },
  {
   "cell_type": "code",
   "execution_count": 34,
   "id": "c2bfb9fb",
   "metadata": {},
   "outputs": [],
   "source": [
    "# 숫자들의 list와 값을 체크하는 함수를 전달받아서\n",
    "# 새로운 리스트를 반환하는 함수\n",
    "def chk_list(temp, fn):\n",
    "    result = []\n",
    "    for n in temp:\n",
    "        if fn(n):\n",
    "            result.append(n)\n",
    "    return result"
   ]
  },
  {
   "cell_type": "code",
   "execution_count": 38,
   "id": "9ac4f24f",
   "metadata": {},
   "outputs": [
    {
     "name": "stdout",
     "output_type": "stream",
     "text": [
      "[1, 3, 5, 7, 9]\n"
     ]
    }
   ],
   "source": [
    "list_temp = [1, 2, 3, 4, 5, 6, 7, 8, 9, 10]\n",
    "# chk_fn = lambda n : n%2 == 0 # 짝수 판별\n",
    "# result_temp = chk_list(list_temp, chk_fn)\n",
    "result_temp = chk_list(list_temp, lambda n : n%2 == 1) # 홀수 판별\n",
    "print(result_temp)"
   ]
  },
  {
   "cell_type": "code",
   "execution_count": 39,
   "id": "cf48ba96",
   "metadata": {},
   "outputs": [
    {
     "name": "stdout",
     "output_type": "stream",
     "text": [
      "[1, 3, 5, 7, 9]\n"
     ]
    }
   ],
   "source": [
    "result2 = filter(lambda n : n%2==1, list_temp) # 홀수 판별\n",
    "print(list(result2))"
   ]
  },
  {
   "cell_type": "code",
   "execution_count": 41,
   "id": "74ca1cd4",
   "metadata": {},
   "outputs": [
    {
     "name": "stdout",
     "output_type": "stream",
     "text": [
      "[10, 20, 30, 40, 50, 60, 70, 80, 90, 100]\n"
     ]
    }
   ],
   "source": [
    "result3 = list(map(lambda n : n*10, list_temp))\n",
    "print(result3)"
   ]
  },
  {
   "cell_type": "code",
   "execution_count": 1,
   "id": "7e8d170c",
   "metadata": {},
   "outputs": [],
   "source": [
    "f = open('./readtext/test.txt', 'w')\n",
    "f.write('Well\\n')\n",
    "f.close()"
   ]
  }
 ],
 "metadata": {
  "kernelspec": {
   "display_name": ".venv",
   "language": "python",
   "name": "python3"
  },
  "language_info": {
   "codemirror_mode": {
    "name": "ipython",
    "version": 3
   },
   "file_extension": ".py",
   "mimetype": "text/x-python",
   "name": "python",
   "nbconvert_exporter": "python",
   "pygments_lexer": "ipython3",
   "version": "3.13.3"
  }
 },
 "nbformat": 4,
 "nbformat_minor": 5
}
