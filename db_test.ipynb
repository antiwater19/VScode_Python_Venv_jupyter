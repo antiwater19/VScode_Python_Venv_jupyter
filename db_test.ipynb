{
 "cells": [
  {
   "cell_type": "code",
   "execution_count": 45,
   "id": "59317d29",
   "metadata": {},
   "outputs": [],
   "source": [
    "import pymysql"
   ]
  },
  {
   "cell_type": "code",
   "execution_count": null,
   "id": "f9725da2",
   "metadata": {},
   "outputs": [],
   "source": [
    "# 1. 데이터 베이스 연결\n",
    "# 2. SQL 생성\n",
    "# 3. SQL 실행 => 결과(데이터 타입 확인)\n",
    "# select => tuple, DML => int"
   ]
  },
  {
   "cell_type": "code",
   "execution_count": 46,
   "id": "019022ee",
   "metadata": {},
   "outputs": [],
   "source": [
    "# 1. 데이터베이스 연결\n",
    "proj_db = pymysql.connect(\n",
    "    host = '127.0.0.1',\n",
    "    port = 3306,\n",
    "    user = 'notroot',\n",
    "    password = 'admin',\n",
    "    db = 'dobyisfree', # 데이터베이스 이름\n",
    "    charset = 'utf8',\n",
    "    autocommit = False\n",
    ") # Connection 객체 생성"
   ]
  },
  {
   "cell_type": "code",
   "execution_count": 47,
   "id": "d66e6222",
   "metadata": {},
   "outputs": [
    {
     "data": {
      "text/plain": [
       "<pymysql.connections.Connection at 0x2bd086f8550>"
      ]
     },
     "execution_count": 47,
     "metadata": {},
     "output_type": "execute_result"
    }
   ],
   "source": [
    "proj_db"
   ]
  },
  {
   "cell_type": "code",
   "execution_count": 48,
   "id": "1da2c234",
   "metadata": {},
   "outputs": [
    {
     "name": "stdout",
     "output_type": "stream",
     "text": [
      "<pymysql.cursors.Cursor object at 0x000002BD08B9A490>\n"
     ]
    }
   ],
   "source": [
    "cursor = proj_db.cursor()\n",
    "print(cursor)"
   ]
  },
  {
   "cell_type": "code",
   "execution_count": 49,
   "id": "7221a3cf",
   "metadata": {},
   "outputs": [],
   "source": [
    "# sql 생성\n",
    "sql_select = 'select * from dept'\n",
    "sql_emp_select = 'select * from emp where deptno = 30'"
   ]
  },
  {
   "cell_type": "code",
   "execution_count": 50,
   "id": "ed58bac4",
   "metadata": {},
   "outputs": [],
   "source": [
    "# sql 실행 요청 => 결과 받아오는 처리\n",
    "#cursor.execute(sql_select)\n",
    "cursor.execute(sql_emp_select)\n",
    "result = cursor.fetchall()"
   ]
  },
  {
   "cell_type": "code",
   "execution_count": 51,
   "id": "7d47f45a",
   "metadata": {},
   "outputs": [
    {
     "name": "stdout",
     "output_type": "stream",
     "text": [
      "((7499, 'ALLEN', 'SALESMAN', '7698', '1981-02-20', 1600.0, 300.0, 30), (7521, 'WARD', 'SALESMAN', '7698', '1981-02-22', 1250.0, 500.0, 30), (7654, 'MARTIN', 'SALESMAN', '7698', '1981-09-28', 1250.0, 1400.0, 30), (7698, 'BLAKE', 'MANAGER', '7839', '1981-05-01', 2850.0, None, 30), (7844, 'TURNER', 'SALESMAN', '7698', '1981-09-08', 1500.0, 0.0, 30), (7934, 'MILLER', 'CLERK', '7782', '1982-01-23', 1300.0, None, 30))\n"
     ]
    }
   ],
   "source": [
    "print(result)"
   ]
  },
  {
   "cell_type": "code",
   "execution_count": 52,
   "id": "9b30c471",
   "metadata": {},
   "outputs": [
    {
     "name": "stdout",
     "output_type": "stream",
     "text": [
      "7499\tALLEN\tSALESMAN\t7698\t1981-02-20\t1600.0\t300.0\t30\t\n",
      "7521\tWARD\tSALESMAN\t7698\t1981-02-22\t1250.0\t500.0\t30\t\n",
      "7654\tMARTIN\tSALESMAN\t7698\t1981-09-28\t1250.0\t1400.0\t30\t\n",
      "7698\tBLAKE\tMANAGER\t7839\t1981-05-01\t2850.0\tNone\t30\t\n",
      "7844\tTURNER\tSALESMAN\t7698\t1981-09-08\t1500.0\t0.0\t30\t\n",
      "7934\tMILLER\tCLERK\t7782\t1982-01-23\t1300.0\tNone\t30\t\n"
     ]
    }
   ],
   "source": [
    "for dept in result:\n",
    "    #print(dept)\n",
    "    for i in dept :\n",
    "        print(i, end='\\t')\n",
    "    print()"
   ]
  },
  {
   "cell_type": "code",
   "execution_count": 53,
   "id": "ad50772d",
   "metadata": {},
   "outputs": [
    {
     "name": "stdout",
     "output_type": "stream",
     "text": [
      "7499\tALLEN\tSALESMAN\t7698\t1981-02-20\t1600.0\t300.0\t30\t\n",
      "7521\tWARD\tSALESMAN\t7698\t1981-02-22\t1250.0\t500.0\t30\t\n",
      "7654\tMARTIN\tSALESMAN\t7698\t1981-09-28\t1250.0\t1400.0\t30\t\n",
      "7698\tBLAKE\tMANAGER\t7839\t1981-05-01\t2850.0\tNone\t30\t\n",
      "7844\tTURNER\tSALESMAN\t7698\t1981-09-08\t1500.0\t0.0\t30\t\n",
      "7934\tMILLER\tCLERK\t7782\t1982-01-23\t1300.0\tNone\t30\t\n"
     ]
    }
   ],
   "source": [
    "for emp in result:\n",
    "    #print(emp)\n",
    "    for i in emp :\n",
    "        print(i, end='\\t')\n",
    "    print()"
   ]
  },
  {
   "cell_type": "code",
   "execution_count": 54,
   "id": "29e34cc1",
   "metadata": {},
   "outputs": [],
   "source": [
    "# 데이터 입력\n",
    "# sql 생성\n",
    "sql_insert = 'insert into dept (deptno, dname, loc) values(%s, %s, %s)'\n",
    "result_insert_cnt = cursor.execute(sql_insert, (50, 'DEV', 'Seoul')) # insert into dept (deptno, dname, loc) values(50, 'DEV', 'Seoul')"
   ]
  },
  {
   "cell_type": "code",
   "execution_count": 55,
   "id": "f8670bc6",
   "metadata": {},
   "outputs": [],
   "source": [
    "proj_db.commit() # insert, update, delete => commit"
   ]
  },
  {
   "cell_type": "code",
   "execution_count": 56,
   "id": "9e893213",
   "metadata": {},
   "outputs": [
    {
     "data": {
      "text/plain": [
       "1"
      ]
     },
     "execution_count": 56,
     "metadata": {},
     "output_type": "execute_result"
    }
   ],
   "source": [
    "result_insert_cnt"
   ]
  },
  {
   "cell_type": "code",
   "execution_count": 57,
   "id": "004792be",
   "metadata": {},
   "outputs": [
    {
     "name": "stdout",
     "output_type": "stream",
     "text": [
      "result : 1\n"
     ]
    }
   ],
   "source": [
    "# 데이터 수정 : 행단위 수정\n",
    "sql_update = 'update dept set loc=%s where deptno = %s'\n",
    "result_update_cnt = cursor.execute(sql_update, ('BUSAN', 50)) # update dept set loc='BUSAN' where deptno = 50\n",
    "print('result :', result_update_cnt)"
   ]
  },
  {
   "cell_type": "code",
   "execution_count": 58,
   "id": "d2c931a4",
   "metadata": {},
   "outputs": [],
   "source": [
    "proj_db.commit()"
   ]
  },
  {
   "cell_type": "code",
   "execution_count": 59,
   "id": "a832b337",
   "metadata": {},
   "outputs": [
    {
     "name": "stdout",
     "output_type": "stream",
     "text": [
      "1\n",
      "삭제되었습니다.\n"
     ]
    }
   ],
   "source": [
    "# 데이터 삭제 : 헹단위 삭제\n",
    "sql_delete_cnt = cursor.execute('delete from dept where deptno=%s', (50))\n",
    "print(sql_delete_cnt)\n",
    "if sql_delete_cnt :\n",
    "    print('삭제되었습니다.')\n",
    "else:\n",
    "    print('삭제된 부서가 없습니다.')\n",
    "\n",
    "proj_db.commit()"
   ]
  },
  {
   "cell_type": "code",
   "execution_count": 60,
   "id": "b0f3fe2d",
   "metadata": {},
   "outputs": [],
   "source": [
    "# 연결 종료\n",
    "proj_db.close()"
   ]
  },
  {
   "cell_type": "code",
   "execution_count": null,
   "id": "b15f09eb",
   "metadata": {},
   "outputs": [],
   "source": []
  }
 ],
 "metadata": {
  "kernelspec": {
   "display_name": ".venv",
   "language": "python",
   "name": "python3"
  },
  "language_info": {
   "codemirror_mode": {
    "name": "ipython",
    "version": 3
   },
   "file_extension": ".py",
   "mimetype": "text/x-python",
   "name": "python",
   "nbconvert_exporter": "python",
   "pygments_lexer": "ipython3",
   "version": "3.13.3"
  }
 },
 "nbformat": 4,
 "nbformat_minor": 5
}
