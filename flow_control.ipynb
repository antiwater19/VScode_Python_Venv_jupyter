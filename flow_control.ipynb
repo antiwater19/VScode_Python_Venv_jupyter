{
 "cells": [
  {
   "cell_type": "code",
   "execution_count": 1,
   "id": "90beb2b7",
   "metadata": {},
   "outputs": [
    {
     "name": "stdout",
     "output_type": "stream",
     "text": [
      "상태값이 True 일 때 블럭의 코드가 실행 1\n",
      "상태값이 True 일 때 블럭의 코드가 실행 2\n",
      "상태값이 True 일 때 블럭의 코드가 실행 3\n",
      "상태값이 True 일 때 블럭의 코드가 실행 4\n"
     ]
    }
   ],
   "source": [
    "# 프로그램의 흐름제어\n",
    "# 분기 : 참일때 처리 거짓말 때 처리\n",
    "# 논리값은 사용자(프로그래머)가 만드는 값\n",
    "if True:\n",
    "    print('상태값이 True 일 때 블럭의 코드가 실행 1')\n",
    "    print('상태값이 True 일 때 블럭의 코드가 실행 2')\n",
    "    print('상태값이 True 일 때 블럭의 코드가 실행 3')\n",
    "    print('상태값이 True 일 때 블럭의 코드가 실행 4')"
   ]
  },
  {
   "cell_type": "code",
   "execution_count": 2,
   "id": "bf94d879",
   "metadata": {},
   "outputs": [],
   "source": [
    "if False:\n",
    "    print('상태값이 True 일 때 블럭의 코드가 실행 1')\n",
    "    print('상태값이 True 일 때 블럭의 코드가 실행 2')\n",
    "    print('상태값이 True 일 때 블럭의 코드가 실행 3')\n",
    "    print('상태값이 True 일 때 블럭의 코드가 실행 4')"
   ]
  },
  {
   "cell_type": "code",
   "execution_count": 3,
   "id": "674372fc",
   "metadata": {},
   "outputs": [
    {
     "name": "stdout",
     "output_type": "stream",
     "text": [
      "MyPage 입니다.\n"
     ]
    }
   ],
   "source": [
    "member_check = True\n",
    "\n",
    "# 회원일 때 회원의 MyPage\n",
    "# 비회원일 때 회원가입 페이지\n",
    "if member_check :\n",
    "    print('MyPage 입니다.')\n",
    "else : # False\n",
    "    print('회원가입 페이지 입니다.')"
   ]
  },
  {
   "cell_type": "code",
   "execution_count": 5,
   "id": "018b5ef5",
   "metadata": {},
   "outputs": [
    {
     "name": "stdout",
     "output_type": "stream",
     "text": [
      "양수\n"
     ]
    }
   ],
   "source": [
    "# 양수, 음수, 0 판별\n",
    "# 양수 num > 0\n",
    "# 음수 num < 0\n",
    "# 0 => 0 == 0\n",
    "num = 100\n",
    "\n",
    "if num > 0:\n",
    "    print('양수')\n",
    "else:\n",
    "    if num < 0:\n",
    "        print('음수')\n",
    "    else:\n",
    "        print('0')\n"
   ]
  },
  {
   "cell_type": "code",
   "execution_count": 6,
   "id": "a1c25ffb",
   "metadata": {},
   "outputs": [
    {
     "name": "stdout",
     "output_type": "stream",
     "text": [
      "음수\n"
     ]
    }
   ],
   "source": [
    "num = -100\n",
    "\n",
    "if num > 0:\n",
    "    print('양수')\n",
    "elif num < 0 : \n",
    "    print('음수')\n",
    "else :\n",
    "    print(0)"
   ]
  },
  {
   "cell_type": "code",
   "execution_count": 8,
   "id": "a4be2189",
   "metadata": {},
   "outputs": [
    {
     "name": "stdout",
     "output_type": "stream",
     "text": [
      "Fail\n"
     ]
    }
   ],
   "source": [
    "score = 55\n",
    "if score > 60 :\n",
    "    print('Pass')\n",
    "else :\n",
    "    print('Fail')"
   ]
  },
  {
   "cell_type": "code",
   "execution_count": 9,
   "id": "8c91003e",
   "metadata": {},
   "outputs": [
    {
     "name": "stdout",
     "output_type": "stream",
     "text": [
      "Fail\n"
     ]
    }
   ],
   "source": [
    "# 조건부 표현식\n",
    "result = 'Pass' if score >= 60 else 'Fail'\n",
    "print(result)"
   ]
  },
  {
   "cell_type": "code",
   "execution_count": null,
   "id": "1832cff1",
   "metadata": {},
   "outputs": [],
   "source": [
    "# 숫자를 입력 받아 짝수, 홀수를 판별하는 프로그램\n",
    "num = input('숫자를 입력하세요 : ')\n",
    "num = int(num)\n",
    "\n",
    "if num %2 == 0:\n",
    "    print('짝수')\n",
    "else if num % 2 == 1:\n",
    "    print('홀수')\n",
    "else:\n",
    "    print('에러 또는 0')"
   ]
  },
  {
   "cell_type": "code",
   "execution_count": null,
   "id": "d0916665",
   "metadata": {},
   "outputs": [],
   "source": [
    "# 숫자를 입력받아 양수, 음수, 0을 판별하는 프로그램\n",
    "num = input('정수를 입력하세요 : ')\n",
    "num = int(num)\n",
    "\n",
    "if num > 0:\n",
    "    print('양수')\n",
    "elif num < 0 : \n",
    "    print('음수')\n",
    "else :\n",
    "    print(0)"
   ]
  },
  {
   "cell_type": "code",
   "execution_count": 17,
   "id": "54ee742f",
   "metadata": {},
   "outputs": [
    {
     "name": "stdout",
     "output_type": "stream",
     "text": [
      "무료 예방접종 가능합니다.\n"
     ]
    }
   ],
   "source": [
    "# 독감예방 접종이 가능한지 여부를 확인하는 프로그램\n",
    "# 15세 미만 혹은 65세 이상의 경우 무료예방접종 가능 메시지 출력\n",
    "age = input('나이를 입력하세요 : ')\n",
    "age = int(age)\n",
    "if age > 15 and age <= 65:\n",
    "    print('무료 예방접종 가능합니다.')\n",
    "elif age <= 15 or age > 65:\n",
    "    print('유료 예방접종 가능합니다.')\n",
    "else:\n",
    "    print('에러발생')"
   ]
  },
  {
   "cell_type": "code",
   "execution_count": null,
   "id": "5cba5362",
   "metadata": {},
   "outputs": [
    {
     "name": "stdout",
     "output_type": "stream",
     "text": [
      "올해는 건강검진 대상입니다.\n",
      "암검사는 유료로 검사 받을 수 있습니다.\n"
     ]
    }
   ],
   "source": [
    "# 특정 연도 건강검진 대상 여부 판별 및 검진 종류 확인\n",
    "# 조건1 : 매개변수로 올해 연도와 태어난 해(연도)를 전달받음\n",
    "# 조건2 : 대한민국 성인(20세)의 경우 무료로 2년마다 건강검진을 받을 수 있음\n",
    "# 조건3 : 짝수 해에 태어난 사람은 올해가 짝수년이라면 검사 대상이 됨\n",
    "# 조건4 : 40세 이상의 경우는 암검사도 무료로 검사를 할 수 있음\n",
    "now_year = int(input('올해 연도 : '))\n",
    "birth_year = int(input('태어난 연도: '))\n",
    "# 나이 계산 \n",
    "age = (now_year - birth_year)\n",
    "\n",
    "medical_check = (now_year + birth_year) % 2 == 0 and age >= 20\n",
    "if medical_check:\n",
    "    print('올해는 건강검진 대상입니다.')\n",
    "    if age >= 40:\n",
    "        print('암검사도 무료로 검사를 할 수 있습니다.')\n",
    "    else:\n",
    "        print('암검사는 유료로 검사 받을 수 있습니다.')\n",
    "else:\n",
    "    print('올해는 건강검진 대상이 아닙니다.')"
   ]
  },
  {
   "cell_type": "code",
   "execution_count": 20,
   "id": "1b93e9be",
   "metadata": {},
   "outputs": [
    {
     "name": "stdout",
     "output_type": "stream",
     "text": [
      "1\n",
      "2\n",
      "3\n",
      "4\n",
      "5\n"
     ]
    }
   ],
   "source": [
    "# 반복문 : 같은 구문(명령 문장)들이 여러번 실행 될 때 공통되는 구문을 따로 때어서 실행\n",
    "# 횟수가 정해진경우, 몇번 반복해야 하는지?, 리스트(튜플도 가능) => 모든 요소를 참조(특정처리)\n",
    "# while : 무한반복, 횟수 모를 경우\n",
    "# for : 리스트, 튜플 시퀸스 데이터, range 함수\n",
    "\n",
    "# while 조건식(bool) :\n",
    "#    코드1..\n",
    "# 1~5 까지 숫자를 출력, 5번 반복\n",
    "\n",
    "count = 0 # 카운트용 변수\n",
    "while count < 5:\n",
    "    count = count + 1 # count += 1 증가식\n",
    "    print(count)"
   ]
  },
  {
   "cell_type": "code",
   "execution_count": 21,
   "id": "33905d75",
   "metadata": {},
   "outputs": [
    {
     "name": "stdout",
     "output_type": "stream",
     "text": [
      "1\n",
      "2\n",
      "3\n",
      "4\n",
      "5\n"
     ]
    }
   ],
   "source": [
    "count = 0\n",
    "while True:\n",
    "    count = count + 1\n",
    "    print(count)\n",
    "    # 반복문의 탈출 키워드 : break\n",
    "    if count == 5:\n",
    "        break"
   ]
  },
  {
   "cell_type": "code",
   "execution_count": 22,
   "id": "6186b655",
   "metadata": {},
   "outputs": [
    {
     "name": "stdout",
     "output_type": "stream",
     "text": [
      "10\n",
      "100\n",
      "20\n",
      "200\n",
      "30\n",
      "300\n",
      "40\n",
      "400\n"
     ]
    }
   ],
   "source": [
    "# for : 리스트, 튜플, 문자열, range() 함수(일렬번호 생성)\n",
    "# for 변수 in 시퀀스:\n",
    "list_a = [10, 20, 30, 40]\n",
    "\n",
    "for n in list_a:\n",
    "    print(n)\n",
    "    print(n*10)"
   ]
  },
  {
   "cell_type": "code",
   "execution_count": 25,
   "id": "cc34bcec",
   "metadata": {},
   "outputs": [
    {
     "name": "stdout",
     "output_type": "stream",
     "text": [
      "1 + 2 = 3\n",
      "3 + 4 = 7\n",
      "5 + 6 = 11\n"
     ]
    }
   ],
   "source": [
    "# a, b = (10, 20) => a = 10, b = 20\n",
    "list_b = [(1,2), (3,4), (5,6)] # => [tuple, tuple, tuple]\n",
    "for n1, n2 in list_b:\n",
    "    print(n1, '+', n2, '=', n1+n2)"
   ]
  },
  {
   "cell_type": "code",
   "execution_count": null,
   "id": "b377cee8",
   "metadata": {},
   "outputs": [],
   "source": [
    "# continue : 반복문 문장 안에서 사용 -> 반복문의 끝 이동"
   ]
  }
 ],
 "metadata": {
  "kernelspec": {
   "display_name": ".venv",
   "language": "python",
   "name": "python3"
  },
  "language_info": {
   "codemirror_mode": {
    "name": "ipython",
    "version": 3
   },
   "file_extension": ".py",
   "mimetype": "text/x-python",
   "name": "python",
   "nbconvert_exporter": "python",
   "pygments_lexer": "ipython3",
   "version": "3.13.3"
  }
 },
 "nbformat": 4,
 "nbformat_minor": 5
}
