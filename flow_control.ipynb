{
 "cells": [
  {
   "cell_type": "code",
   "execution_count": 1,
   "id": "90beb2b7",
   "metadata": {},
   "outputs": [
    {
     "name": "stdout",
     "output_type": "stream",
     "text": [
      "상태값이 True 일 때 블럭의 코드가 실행 1\n",
      "상태값이 True 일 때 블럭의 코드가 실행 2\n",
      "상태값이 True 일 때 블럭의 코드가 실행 3\n",
      "상태값이 True 일 때 블럭의 코드가 실행 4\n"
     ]
    }
   ],
   "source": [
    "# 프로그램의 흐름제어\n",
    "# 분기 : 참일때 처리 거짓말 때 처리\n",
    "# 논리값은 사용자(프로그래머)가 만드는 값\n",
    "if True:\n",
    "    print('상태값이 True 일 때 블럭의 코드가 실행 1')\n",
    "    print('상태값이 True 일 때 블럭의 코드가 실행 2')\n",
    "    print('상태값이 True 일 때 블럭의 코드가 실행 3')\n",
    "    print('상태값이 True 일 때 블럭의 코드가 실행 4')"
   ]
  },
  {
   "cell_type": "code",
   "execution_count": 2,
   "id": "bf94d879",
   "metadata": {},
   "outputs": [],
   "source": [
    "if False:\n",
    "    print('상태값이 True 일 때 블럭의 코드가 실행 1')\n",
    "    print('상태값이 True 일 때 블럭의 코드가 실행 2')\n",
    "    print('상태값이 True 일 때 블럭의 코드가 실행 3')\n",
    "    print('상태값이 True 일 때 블럭의 코드가 실행 4')"
   ]
  },
  {
   "cell_type": "code",
   "execution_count": 3,
   "id": "674372fc",
   "metadata": {},
   "outputs": [
    {
     "name": "stdout",
     "output_type": "stream",
     "text": [
      "MyPage 입니다.\n"
     ]
    }
   ],
   "source": [
    "member_check = True\n",
    "\n",
    "# 회원일 때 회원의 MyPage\n",
    "# 비회원일 때 회원가입 페이지\n",
    "if member_check :\n",
    "    print('MyPage 입니다.')\n",
    "else : # False\n",
    "    print('회원가입 페이지 입니다.')"
   ]
  },
  {
   "cell_type": "code",
   "execution_count": 5,
   "id": "018b5ef5",
   "metadata": {},
   "outputs": [
    {
     "name": "stdout",
     "output_type": "stream",
     "text": [
      "양수\n"
     ]
    }
   ],
   "source": [
    "# 양수, 음수, 0 판별\n",
    "# 양수 num > 0\n",
    "# 음수 num < 0\n",
    "# 0 => 0 == 0\n",
    "num = 100\n",
    "\n",
    "if num > 0:\n",
    "    print('양수')\n",
    "else:\n",
    "    if num < 0:\n",
    "        print('음수')\n",
    "    else:\n",
    "        print('0')\n"
   ]
  },
  {
   "cell_type": "code",
   "execution_count": 6,
   "id": "a1c25ffb",
   "metadata": {},
   "outputs": [
    {
     "name": "stdout",
     "output_type": "stream",
     "text": [
      "음수\n"
     ]
    }
   ],
   "source": [
    "num = -100\n",
    "\n",
    "if num > 0:\n",
    "    print('양수')\n",
    "elif num < 0 : \n",
    "    print('음수')\n",
    "else :\n",
    "    print(0)"
   ]
  },
  {
   "cell_type": "code",
   "execution_count": 8,
   "id": "a4be2189",
   "metadata": {},
   "outputs": [
    {
     "name": "stdout",
     "output_type": "stream",
     "text": [
      "Fail\n"
     ]
    }
   ],
   "source": [
    "score = 55\n",
    "if score > 60 :\n",
    "    print('Pass')\n",
    "else :\n",
    "    print('Fail')"
   ]
  },
  {
   "cell_type": "code",
   "execution_count": 10,
   "id": "8c91003e",
   "metadata": {},
   "outputs": [
    {
     "name": "stdout",
     "output_type": "stream",
     "text": [
      "Fail\n"
     ]
    }
   ],
   "source": [
    "# 조건부 표현식\n",
    "result = 'Pass' if score >= 60 else 'Fail'\n",
    "print(result)"
   ]
  },
  {
   "cell_type": "code",
   "execution_count": null,
   "id": "1832cff1",
   "metadata": {},
   "outputs": [],
   "source": [
    "# 숫자를 입력 받아 짝수, 홀수를 판별하는 프로그램\n",
    "num = input('숫자를 입력하세요 : ')\n",
    "num = int(num)\n",
    "\n",
    "if num %2 == 0:\n",
    "    print('짝수')\n",
    "else if num % 2 == 1:\n",
    "    print('홀수')\n",
    "else:\n",
    "    print('에러 또는 0')"
   ]
  },
  {
   "cell_type": "code",
   "execution_count": null,
   "id": "d0916665",
   "metadata": {},
   "outputs": [],
   "source": [
    "# 숫자를 입력받아 양수, 음수, 0을 판별하는 프로그램\n",
    "num = input('정수를 입력하세요 : ')\n",
    "num = int(num)\n",
    "\n",
    "if num > 0:\n",
    "    print('양수')\n",
    "elif num < 0 : \n",
    "    print('음수')\n",
    "else :\n",
    "    print(0)"
   ]
  },
  {
   "cell_type": "code",
   "execution_count": 17,
   "id": "54ee742f",
   "metadata": {},
   "outputs": [
    {
     "name": "stdout",
     "output_type": "stream",
     "text": [
      "무료 예방접종 가능합니다.\n"
     ]
    }
   ],
   "source": [
    "# 독감예방 접종이 가능한지 여부를 확인하는 프로그램\n",
    "# 15세 미만 혹은 65세 이상의 경우 무료예방접종 가능 메시지 출력\n",
    "age = input('나이를 입력하세요 : ')\n",
    "age = int(age)\n",
    "if age > 15 and age <= 65:\n",
    "    print('무료 예방접종 가능합니다.')\n",
    "elif age <= 15 or age > 65:\n",
    "    print('유료 예방접종 가능합니다.')\n",
    "else:\n",
    "    print('에러발생')"
   ]
  },
  {
   "cell_type": "code",
   "execution_count": 19,
   "id": "5cba5362",
   "metadata": {},
   "outputs": [
    {
     "name": "stdout",
     "output_type": "stream",
     "text": [
      "올해는 건강검진 대상입니다.\n",
      "암검사는 유료로 검사 받을 수 있습니다.\n"
     ]
    }
   ],
   "source": [
    "# 특정 연도 건강검진 대상 여부 판별 및 검진 종류 확인\n",
    "# 조건1 : 매개변수로 올해 연도와 태어난 해(연도)를 전달받음\n",
    "# 조건2 : 대한민국 성인(20세)의 경우 무료로 2년마다 건강검진을 받을 수 있음\n",
    "# 조건3 : 짝수 해에 태어난 사람은 올해가 짝수년이라면 검사 대상이 됨\n",
    "# 조건4 : 40세 이상의 경우는 암검사도 무료로 검사를 할 수 있음\n",
    "now_year = int(input('올해 연도 : '))\n",
    "birth_year = int(input('태어난 연도: '))\n",
    "# 나이 계산 \n",
    "age = (now_year - birth_year)\n",
    "\n",
    "medical_check = (now_year + birth_year) % 2 == 0 and age >= 20\n",
    "if medical_check:\n",
    "    print('올해는 건강검진 대상입니다.')\n",
    "    if age >= 40:\n",
    "        print('암검사도 무료로 검사를 할 수 있습니다.')\n",
    "    else:\n",
    "        print('암검사는 유료로 검사 받을 수 있습니다.')\n",
    "else:\n",
    "    print('올해는 건강검진 대상이 아닙니다.')"
   ]
  },
  {
   "cell_type": "code",
   "execution_count": 20,
   "id": "1b93e9be",
   "metadata": {},
   "outputs": [
    {
     "name": "stdout",
     "output_type": "stream",
     "text": [
      "1\n",
      "2\n",
      "3\n",
      "4\n",
      "5\n"
     ]
    }
   ],
   "source": [
    "# 반복문 : 같은 구문(명령 문장)들이 여러번 실행 될 때 공통되는 구문을 따로 때어서 실행\n",
    "# 횟수가 정해진경우, 몇번 반복해야 하는지?, 리스트(튜플도 가능) => 모든 요소를 참조(특정처리)\n",
    "# while : 무한반복, 횟수 모를 경우\n",
    "# for : 리스트, 튜플 시퀸스 데이터, range 함수\n",
    "\n",
    "# while 조건식(bool) :\n",
    "#    코드1..\n",
    "# 1~5 까지 숫자를 출력, 5번 반복\n",
    "\n",
    "count = 0 # 카운트용 변수\n",
    "while count < 5:\n",
    "    count = count + 1 # count += 1 증가식\n",
    "    print(count)"
   ]
  },
  {
   "cell_type": "code",
   "execution_count": 21,
   "id": "33905d75",
   "metadata": {},
   "outputs": [
    {
     "name": "stdout",
     "output_type": "stream",
     "text": [
      "1\n",
      "2\n",
      "3\n",
      "4\n",
      "5\n"
     ]
    }
   ],
   "source": [
    "count = 0\n",
    "while True:\n",
    "    count = count + 1\n",
    "    print(count)\n",
    "    # 반복문의 탈출 키워드 : break\n",
    "    if count == 5:\n",
    "        break"
   ]
  },
  {
   "cell_type": "code",
   "execution_count": 22,
   "id": "6186b655",
   "metadata": {},
   "outputs": [
    {
     "name": "stdout",
     "output_type": "stream",
     "text": [
      "10\n",
      "100\n",
      "20\n",
      "200\n",
      "30\n",
      "300\n",
      "40\n",
      "400\n"
     ]
    }
   ],
   "source": [
    "# for : 리스트, 튜플, 문자열, range() 함수(일렬번호 생성)\n",
    "# for 변수 in 시퀀스:\n",
    "list_a = [10, 20, 30, 40]\n",
    "\n",
    "for n in list_a:\n",
    "    print(n)\n",
    "    print(n*10)"
   ]
  },
  {
   "cell_type": "code",
   "execution_count": 25,
   "id": "cc34bcec",
   "metadata": {},
   "outputs": [
    {
     "name": "stdout",
     "output_type": "stream",
     "text": [
      "1 + 2 = 3\n",
      "3 + 4 = 7\n",
      "5 + 6 = 11\n"
     ]
    }
   ],
   "source": [
    "# a, b = (10, 20) => a = 10, b = 20\n",
    "list_b = [(1,2), (3,4), (5,6)] # => [tuple, tuple, tuple]\n",
    "for n1, n2 in list_b:\n",
    "    print(n1, '+', n2, '=', n1+n2)"
   ]
  },
  {
   "cell_type": "code",
   "execution_count": 36,
   "id": "b377cee8",
   "metadata": {},
   "outputs": [
    {
     "name": "stdout",
     "output_type": "stream",
     "text": [
      "80 PASS\n",
      "70 PASS\n",
      "100 PASS\n",
      "==============================\n",
      "1 80 PASS\n",
      "3 70 PASS\n",
      "5 100 PASS\n"
     ]
    }
   ],
   "source": [
    "# continue : 반복문 문장 안에서 사용 -> 반복문의 끝 이동, 조건식으로 이동\n",
    "scores = [80, 50, 70, 60, 100]\n",
    "# 70접 이상만 PASS라고 출력\n",
    "\n",
    "num = 0 # 순서 번호\n",
    "for s in scores : \n",
    "    if s >= 70 :\n",
    "        print(s, 'PASS')\n",
    "\n",
    "print('='*30)\n",
    "\n",
    "num = 0\n",
    "for s in scores:\n",
    "    num += 1 # num = num + 1\n",
    "    if s < 70:\n",
    "        continue\n",
    "    print(num, s, 'PASS')"
   ]
  },
  {
   "cell_type": "code",
   "execution_count": 42,
   "id": "924d3a06",
   "metadata": {},
   "outputs": [
    {
     "name": "stdout",
     "output_type": "stream",
     "text": [
      "10 80\n",
      "11 50\n",
      "12 70\n",
      "13 60\n",
      "14 100\n"
     ]
    }
   ],
   "source": [
    "# enumerate(seq, start=0) : 시퀀스 데이터의 index, count\n",
    "for index, value in enumerate(scores, start=10) : # 기본적으로 아무입력도 없으면 start=0 이된다.\n",
    "    print(index, value)"
   ]
  },
  {
   "cell_type": "code",
   "execution_count": 45,
   "id": "87e2f603",
   "metadata": {},
   "outputs": [
    {
     "name": "stdout",
     "output_type": "stream",
     "text": [
      "안녕하세요!\n",
      "안녕하세요!\n",
      "안녕하세요!\n",
      "안녕하세요!\n",
      "안녕하세요!\n"
     ]
    }
   ],
   "source": [
    "# range 함수 : 일련번호 생성\n",
    "for n in range(5): # range(0, 5, 1) (시작 값, 탈출 값, 증가값) => 0~5-1\n",
    "    print('안녕하세요!')"
   ]
  },
  {
   "cell_type": "code",
   "execution_count": 49,
   "id": "4f4c7149",
   "metadata": {},
   "outputs": [
    {
     "name": "stdout",
     "output_type": "stream",
     "text": [
      "1\t3\t5\t7\t9\t"
     ]
    }
   ],
   "source": [
    "for n in range(1, 11, 2): # 1,3,5,7,9\n",
    "    print(n, end='\\t') # 내장함수로 되어있는 \\t = tab"
   ]
  },
  {
   "cell_type": "code",
   "execution_count": 56,
   "id": "ad99239f",
   "metadata": {},
   "outputs": [
    {
     "name": "stdout",
     "output_type": "stream",
     "text": [
      "2 단\n",
      "2 x 1 = 2, \n",
      "2 x 2 = 4, \n",
      "2 x 3 = 6, \n",
      "2 x 4 = 8, \n",
      "2 x 5 = 10, \n",
      "2 x 6 = 12, \n",
      "2 x 7 = 14, \n",
      "2 x 8 = 16, \n",
      "2 x 9 = 18, \n",
      "\n",
      "3 단\n",
      "3 x 1 = 3, \n",
      "3 x 2 = 6, \n",
      "3 x 3 = 9, \n",
      "3 x 4 = 12, \n",
      "3 x 5 = 15, \n",
      "3 x 6 = 18, \n",
      "3 x 7 = 21, \n",
      "3 x 8 = 24, \n",
      "3 x 9 = 27, \n",
      "\n",
      "4 단\n",
      "4 x 1 = 4, \n",
      "4 x 2 = 8, \n",
      "4 x 3 = 12, \n",
      "4 x 4 = 16, \n",
      "4 x 5 = 20, \n",
      "4 x 6 = 24, \n",
      "4 x 7 = 28, \n",
      "4 x 8 = 32, \n",
      "4 x 9 = 36, \n",
      "\n",
      "5 단\n",
      "5 x 1 = 5, \n",
      "5 x 2 = 10, \n",
      "5 x 3 = 15, \n",
      "5 x 4 = 20, \n",
      "5 x 5 = 25, \n",
      "5 x 6 = 30, \n",
      "5 x 7 = 35, \n",
      "5 x 8 = 40, \n",
      "5 x 9 = 45, \n",
      "\n",
      "6 단\n",
      "6 x 1 = 6, \n",
      "6 x 2 = 12, \n",
      "6 x 3 = 18, \n",
      "6 x 4 = 24, \n",
      "6 x 5 = 30, \n",
      "6 x 6 = 36, \n",
      "6 x 7 = 42, \n",
      "6 x 8 = 48, \n",
      "6 x 9 = 54, \n",
      "\n",
      "7 단\n",
      "7 x 1 = 7, \n",
      "7 x 2 = 14, \n",
      "7 x 3 = 21, \n",
      "7 x 4 = 28, \n",
      "7 x 5 = 35, \n",
      "7 x 6 = 42, \n",
      "7 x 7 = 49, \n",
      "7 x 8 = 56, \n",
      "7 x 9 = 63, \n",
      "\n",
      "8 단\n",
      "8 x 1 = 8, \n",
      "8 x 2 = 16, \n",
      "8 x 3 = 24, \n",
      "8 x 4 = 32, \n",
      "8 x 5 = 40, \n",
      "8 x 6 = 48, \n",
      "8 x 7 = 56, \n",
      "8 x 8 = 64, \n",
      "8 x 9 = 72, \n",
      "\n",
      "9 단\n",
      "9 x 1 = 9, \n",
      "9 x 2 = 18, \n",
      "9 x 3 = 27, \n",
      "9 x 4 = 36, \n",
      "9 x 5 = 45, \n",
      "9 x 6 = 54, \n",
      "9 x 7 = 63, \n",
      "9 x 8 = 72, \n",
      "9 x 9 = 81, \n",
      "\n"
     ]
    }
   ],
   "source": [
    "# 반복문의 중첩 : 구구단\n",
    "# 2~9 단 \n",
    "# 각각의 단 1~9까지 곱한 값을 출력\n",
    "# 2*1=2, 2*2=4, 2*3=6, ... 2*9=18\n",
    "# 9*1=9, 9*2=18, ... 9*9=81\n",
    "\n",
    "for dan in range(2, 10):\n",
    "    print(dan, '단')\n",
    "    for n in range(1, 10):\n",
    "        print(dan,'x',n, '=', dan*n, end=', \\n')\n",
    "    print()"
   ]
  },
  {
   "cell_type": "code",
   "execution_count": null,
   "id": "ace79d56",
   "metadata": {},
   "outputs": [
    {
     "name": "stdout",
     "output_type": "stream",
     "text": [
      "[10]\n",
      "[10, 20]\n",
      "[10, 20, 30]\n",
      "[10, 20, 30, 40]\n",
      "[10, 20, 30, 40, 50]\n",
      "\n",
      " [10, 20, 30, 40, 50]\n"
     ]
    }
   ],
   "source": [
    "# list_c 가 가지는 데이터에 10을 곱한 새로운 값으로 새로운 리스트를 생성하기\n",
    "list_c = [1, 2, 3, 4, 5]\n",
    "\n",
    "result = []\n",
    "for n in list_c:\n",
    "    result.append(n*10) # n*10 => 10, 20, 30, 40, 50\n",
    "    print(result)\n",
    "print('\\n', result)"
   ]
  },
  {
   "cell_type": "code",
   "execution_count": 65,
   "id": "ff29c8bb",
   "metadata": {},
   "outputs": [
    {
     "name": "stdout",
     "output_type": "stream",
     "text": [
      "[100, 200, 300, 400, 500]\n"
     ]
    }
   ],
   "source": [
    "result1 = [n*100 for n in list_c]\n",
    "print(result1)"
   ]
  },
  {
   "cell_type": "code",
   "execution_count": 71,
   "id": "ee731abe",
   "metadata": {},
   "outputs": [
    {
     "name": "stdout",
     "output_type": "stream",
     "text": [
      "[100, 300, 500]\n"
     ]
    }
   ],
   "source": [
    "result2 = [n*100 for n in list_c if n % 2 == 1]\n",
    "print(result2)"
   ]
  },
  {
   "cell_type": "code",
   "execution_count": null,
   "id": "aa86948c",
   "metadata": {},
   "outputs": [],
   "source": [
    "sum = 0 # 나중에 보고 고치기\n",
    "for n in range(1, 101):\n",
    "    "
   ]
  },
  {
   "cell_type": "code",
   "execution_count": 74,
   "id": "d20ead29",
   "metadata": {},
   "outputs": [
    {
     "name": "stdout",
     "output_type": "stream",
     "text": [
      "1~100 까지의 합:  5050\n"
     ]
    }
   ],
   "source": [
    "# 1부터 100까지의 합을 구하는 프로그램\n",
    "# 1~100 까지 반복 : while, for\n",
    "sum = 0\n",
    "for n in range(1, 101):\n",
    "    #print(n , end=' ')\n",
    "    sum += n # sum = sum +n\n",
    "    \n",
    "print('1~100 까지의 합: ', + sum)"
   ]
  },
  {
   "cell_type": "code",
   "execution_count": 75,
   "id": "26f01488",
   "metadata": {},
   "outputs": [
    {
     "name": "stdout",
     "output_type": "stream",
     "text": [
      "1~100 까지의 합 :  5050\n"
     ]
    }
   ],
   "source": [
    "num = 1  # 1씩 증가시킬 변수\n",
    "sum = 0\n",
    "while num < 101 :    \n",
    "    sum += num\n",
    "    #print(num, end=' ')\n",
    "    num += 1  # 증가식 : 탈출 식\n",
    "\n",
    "print('1~100 까지의 합 : ', sum)"
   ]
  },
  {
   "cell_type": "code",
   "execution_count": 76,
   "id": "3943c80f",
   "metadata": {},
   "outputs": [
    {
     "name": "stdout",
     "output_type": "stream",
     "text": [
      "1~10 까지의 숫자들의 곱 연산 :  3628800\n"
     ]
    }
   ],
   "source": [
    "# for문을 이용해서 1~10 까지의 곱한 결과 출력\n",
    "result = 1\n",
    "for n in range(1,11):\n",
    "    #print(n, end=' ')\n",
    "    result *= n  # result = result * n\n",
    "\n",
    "print('1~10 까지의 숫자들의 곱 연산 : ', result)"
   ]
  },
  {
   "cell_type": "code",
   "execution_count": 77,
   "id": "53e1eed0",
   "metadata": {},
   "outputs": [
    {
     "name": "stdout",
     "output_type": "stream",
     "text": [
      "2 단 \n",
      "2X1=2  2X2=4  \n",
      "4 단 \n",
      "4X1=4  4X2=8  4X3=12  4X4=16  \n",
      "6 단 \n",
      "6X1=6  6X2=12  6X3=18  6X4=24  6X5=30  6X6=36  \n",
      "8 단 \n",
      "8X1=8  8X2=16  8X3=24  8X4=32  8X5=40  8X6=48  8X7=56  8X8=64  \n"
     ]
    }
   ],
   "source": [
    "# 구구단의 짝수 단(2, 4, 6, 8)만 출력하는 프로그램 작성\n",
    "# 단, 2단은 2*2까지, 4단은 4*4까지, 6단은 6*6까지, 8단은 8*8까지 출력\n",
    "for dan in range(2, 10, 2):\n",
    "    print(dan, '단', end=' ')\n",
    "    print()\n",
    "    for n in range(1, dan+1): # dan => 2, 4 ,6 , 8\n",
    "        #print(dan, 'X', n, '=', dan*n, end=' ')\n",
    "        print(f'{dan}X{n}={dan*n}', end='  ')\n",
    "    print()"
   ]
  },
  {
   "cell_type": "code",
   "execution_count": null,
   "id": "9260dfbb",
   "metadata": {},
   "outputs": [
    {
     "name": "stdout",
     "output_type": "stream",
     "text": [
      "num : 56 일때 1000을 최초로 넘는다.\n",
      "sum : 1055\n"
     ]
    }
   ],
   "source": [
    "# while문을 무한 루프로 구성하여 작성하즌 예제\n",
    "# 1부터 시작해서 모든 짝수와 3의 배수를 더해서 그 합이 언제 1000이 넘어서는지, 그리고 1000이 넘어선 값은 얼마가 되는지 계산하여 출력하라\n",
    "sum = 0\n",
    "num = 1\n",
    "num2 = 1\n",
    "while True:\n",
    "    num += 1\n",
    "    if (num % 2 == 0 or num % 3 == 0):\n",
    "        sum += num\n",
    "\n",
    "    if sum >= 1000:\n",
    "        print('num :', num, '일때 1000을 최초로넘는다.')\n",
    "        print('sum :', sum)\n",
    "        break"
   ]
  },
  {
   "cell_type": "code",
   "execution_count": null,
   "id": "3851c80e",
   "metadata": {},
   "outputs": [],
   "source": []
  }
 ],
 "metadata": {
  "kernelspec": {
   "display_name": ".venv",
   "language": "python",
   "name": "python3"
  },
  "language_info": {
   "codemirror_mode": {
    "name": "ipython",
    "version": 3
   },
   "file_extension": ".py",
   "mimetype": "text/x-python",
   "name": "python",
   "nbconvert_exporter": "python",
   "pygments_lexer": "ipython3",
   "version": "3.13.3"
  }
 },
 "nbformat": 4,
 "nbformat_minor": 5
}
