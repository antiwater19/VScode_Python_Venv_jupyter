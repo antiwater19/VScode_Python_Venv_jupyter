{
 "cells": [
  {
   "cell_type": "code",
   "execution_count": null,
   "id": "0cfe23d6",
   "metadata": {},
   "outputs": [
    {
     "name": "stdout",
     "output_type": "stream",
     "text": [
      "1\n"
     ]
    }
   ],
   "source": [
    "# 2025-05-19\n",
    "# 실행방법 Ctrl + Enter\n",
    "print(1)"
   ]
  },
  {
   "cell_type": "code",
   "execution_count": 32,
   "id": "43c167c2",
   "metadata": {},
   "outputs": [
    {
     "name": "stdout",
     "output_type": "stream",
     "text": [
      "안녕하세요\n"
     ]
    }
   ],
   "source": [
    "print('안녕하세요')"
   ]
  },
  {
   "cell_type": "markdown",
   "id": "1d5fdcf1",
   "metadata": {},
   "source": [
    "# 이거 Markdown인데\n",
    "## first Python\n",
    "### programing\n",
    "#### H4\n",
    "##### H5\n",
    "###### H6 \n",
    "####### H7란건 없단다 애송아 ㅋㅋ"
   ]
  },
  {
   "cell_type": "code",
   "execution_count": 80,
   "id": "18d76e0a",
   "metadata": {},
   "outputs": [],
   "source": [
    "# 이건 주석이에요\n",
    "# 변수 \n",
    "# 식별자(이름) = 값\n",
    "num = 100"
   ]
  },
  {
   "cell_type": "code",
   "execution_count": 81,
   "id": "c03ef021",
   "metadata": {},
   "outputs": [
    {
     "name": "stdout",
     "output_type": "stream",
     "text": [
      "100\n"
     ]
    }
   ],
   "source": [
    "print(num)"
   ]
  },
  {
   "cell_type": "code",
   "execution_count": 82,
   "id": "0dd5b4e1",
   "metadata": {},
   "outputs": [],
   "source": [
    "# num의 메모리 주소\n",
    "# id() : 객체의 메모리 주소를 확인하는 함수\n",
    "id(num)\n",
    "list1 = [1, 2, 3] # 리스트"
   ]
  },
  {
   "cell_type": "code",
   "execution_count": 83,
   "id": "3fcbe97b",
   "metadata": {},
   "outputs": [
    {
     "name": "stdout",
     "output_type": "stream",
     "text": [
      "1971150388096 1971150388096\n"
     ]
    }
   ],
   "source": [
    "a = [1, 2, 3]\n",
    "b = a # a와 b는 같은 객체를 가리킴\n",
    "print(id(a), id(b)) # a와 b는 같은 메모리 주소를 가리킴"
   ]
  },
  {
   "cell_type": "code",
   "execution_count": 84,
   "id": "13721e8e",
   "metadata": {},
   "outputs": [
    {
     "name": "stdout",
     "output_type": "stream",
     "text": [
      "python python\n",
      "3 5\n",
      "5 3\n"
     ]
    }
   ],
   "source": [
    "(a, b) = ('python', 'life') # 튜플\n",
    "(a, b) = 'python', 'life'   # 튜플 괄호생략 가능\n",
    "a = b = 'python' # 여러개 변수에 같은 값 대입\n",
    "print(a, b) # a와 b는 같은 값\n",
    "a = 3 \n",
    "b = 5\n",
    "print(a, b)\n",
    "a, b = b, a # a와 b의 값 교환\n",
    "print(a, b) "
   ]
  },
  {
   "cell_type": "code",
   "execution_count": 85,
   "id": "8360f403",
   "metadata": {},
   "outputs": [
    {
     "name": "stdout",
     "output_type": "stream",
     "text": [
      "10\n",
      "90\n",
      "100\n",
      "3.3333333333333335\n",
      "1\n",
      "3\n",
      "9\n"
     ]
    }
   ],
   "source": [
    "# 자료형\n",
    "# 숫자형 = int, float, complex, bool, 8진수, 16진수\n",
    "# 정수, 실수\n",
    "# 숫자 연산 => 사칙연산, %, //, **\n",
    "print(7+3) # 덧셈\n",
    "print(100-10) # 뺄셈\n",
    "print(4*25) # 곱하기\n",
    "print(10/3) # 나누기\n",
    "print(10%3) # 나머지\n",
    "print(10//3) # 몫\n",
    "print(3**2) # 제곱"
   ]
  },
  {
   "cell_type": "code",
   "execution_count": 86,
   "id": "fb5de3f3",
   "metadata": {},
   "outputs": [],
   "source": [
    "# 문자열 string\n",
    "# hello => 문자들을 나열(순서) h, e, l, l, o -> 시퀀스 자료형\n",
    "# 문자열 생성 : \"hello\" 'hello' '''hello''' \"\"\"hello\"\"\"\n",
    "str_1 = 'hello'"
   ]
  },
  {
   "cell_type": "code",
   "execution_count": 87,
   "id": "0da6ec07",
   "metadata": {},
   "outputs": [
    {
     "data": {
      "text/plain": [
       "'hello'"
      ]
     },
     "execution_count": 87,
     "metadata": {},
     "output_type": "execute_result"
    }
   ],
   "source": [
    "str_1"
   ]
  },
  {
   "cell_type": "code",
   "execution_count": 88,
   "id": "37d56bda",
   "metadata": {},
   "outputs": [],
   "source": [
    "str_2 = '''\n",
    "안녕하세요!\n",
    "    반갑습니다.\n",
    "'''"
   ]
  },
  {
   "cell_type": "code",
   "execution_count": 89,
   "id": "3085c49b",
   "metadata": {},
   "outputs": [
    {
     "name": "stdout",
     "output_type": "stream",
     "text": [
      "\n",
      "안녕하세요!\n",
      "    반갑습니다.\n",
      "\n"
     ]
    }
   ],
   "source": [
    "print(str_2)"
   ]
  },
  {
   "cell_type": "code",
   "execution_count": 90,
   "id": "b2772825",
   "metadata": {},
   "outputs": [],
   "source": [
    "str_sql = '''\n",
    "select *\n",
    "from emp\n",
    "where empno = 1000\n",
    "'''"
   ]
  },
  {
   "cell_type": "code",
   "execution_count": 91,
   "id": "30c4af2c",
   "metadata": {},
   "outputs": [],
   "source": [
    "str_html = '''\n",
    "<html>\n",
    "    <head>\n",
    "        <title>제목</title>\n",
    "    </head>\n",
    "    <body>\n",
    "        <h1>안녕하세요</h1>\n",
    "    </body>\n",
    "'''"
   ]
  },
  {
   "cell_type": "code",
   "execution_count": 92,
   "id": "5841b0fb",
   "metadata": {},
   "outputs": [
    {
     "name": "stdout",
     "output_type": "stream",
     "text": [
      "Python Nice~!!\n"
     ]
    }
   ],
   "source": [
    "# 문자열 연산자\n",
    "# 더하기 +, 곱하기, 함수=> 길이(size) : len()\n",
    "head = 'Python'\n",
    "tail = 'Nice~!!'\n",
    "print(head +' '+ tail) # 문자열 더하기"
   ]
  },
  {
   "cell_type": "code",
   "execution_count": 93,
   "id": "65a287fb",
   "metadata": {},
   "outputs": [
    {
     "name": "stdout",
     "output_type": "stream",
     "text": [
      "--------------------\n",
      "PythonPython\n",
      "6\n"
     ]
    }
   ],
   "source": [
    "print('-'*20)\n",
    "print(head * 2)\n",
    "print(len(head)) # 문자열 길이"
   ]
  },
  {
   "cell_type": "code",
   "execution_count": 94,
   "id": "06601da9",
   "metadata": {},
   "outputs": [],
   "source": [
    "# 문자열의 인덱싱, 슬라이싱\n",
    "# P y t h o n\n",
    "# 0 1 2 3 4 5 <- index\n",
    "# -6-5-4-3-2-1 <- index\n",
    "str_3 = 'Python'"
   ]
  },
  {
   "cell_type": "code",
   "execution_count": 95,
   "id": "a2d3a57a",
   "metadata": {},
   "outputs": [
    {
     "name": "stdout",
     "output_type": "stream",
     "text": [
      "P\n",
      "y\n",
      "t\n",
      "h\n",
      "o\n",
      "n\n"
     ]
    }
   ],
   "source": [
    "print(str_3[0])\n",
    "print(str_3[1])\n",
    "print(str_3[2])\n",
    "print(str_3[3])\n",
    "print(str_3[4])\n",
    "print(str_3[5])"
   ]
  },
  {
   "cell_type": "code",
   "execution_count": 96,
   "id": "0cd49bf6",
   "metadata": {},
   "outputs": [
    {
     "name": "stdout",
     "output_type": "stream",
     "text": [
      "P\n",
      "y\n",
      "t\n",
      "h\n",
      "o\n",
      "n\n"
     ]
    }
   ],
   "source": [
    "print(str_3[-6])\n",
    "print(str_3[-5])\n",
    "print(str_3[-4])\n",
    "print(str_3[-3])\n",
    "print(str_3[-2])\n",
    "print(str_3[-1])"
   ]
  },
  {
   "cell_type": "code",
   "execution_count": 97,
   "id": "6bd310e4",
   "metadata": {},
   "outputs": [
    {
     "name": "stdout",
     "output_type": "stream",
     "text": [
      "Pyt\n"
     ]
    }
   ],
   "source": [
    "# 슬라이싱 : str_3[시작index, 끝index]\n",
    "# P y t h o n\n",
    "# 0 1 2 3 4 5 <- index\n",
    "print(str_3[0:3])"
   ]
  },
  {
   "cell_type": "code",
   "execution_count": 98,
   "id": "22c86090",
   "metadata": {},
   "outputs": [
    {
     "data": {
      "text/plain": [
       "'안녕하세요! 저는홍길동입니다. 제 나이는 21입니다.'"
      ]
     },
     "execution_count": 98,
     "metadata": {},
     "output_type": "execute_result"
    }
   ],
   "source": [
    "# f`안녕하세요! {name}님`\n",
    "user_name = '홍길동'\n",
    "user_age = 20\n",
    "f'안녕하세요! 저는{user_name}입니다. 제 나이는 {user_age+1}입니다.'"
   ]
  },
  {
   "cell_type": "code",
   "execution_count": 99,
   "id": "01c062bc",
   "metadata": {},
   "outputs": [],
   "source": [
    "# 문자열 타입이 제공하는 함수\n",
    "str_4 = 'hobby'"
   ]
  },
  {
   "cell_type": "code",
   "execution_count": 100,
   "id": "ef944951",
   "metadata": {},
   "outputs": [
    {
     "name": "stdout",
     "output_type": "stream",
     "text": [
      "2\n",
      "a,b,c,d\n",
      "hobby HOBBY\n",
      "hobby hobby\n"
     ]
    }
   ],
   "source": [
    "print(str_4.count('b')) # b의 개수\n",
    "print(','.join('abcd')) # 문자열을 ,로 연결\n",
    "print(str_4,str_4.upper()) # 대문자\n",
    "print(str_4,str_4.lower()) # 소문자"
   ]
  },
  {
   "cell_type": "code",
   "execution_count": 101,
   "id": "217efa10",
   "metadata": {},
   "outputs": [],
   "source": [
    "str_5 = '     python   '"
   ]
  },
  {
   "cell_type": "code",
   "execution_count": 102,
   "id": "3a37e917",
   "metadata": {},
   "outputs": [
    {
     "name": "stdout",
     "output_type": "stream",
     "text": [
      "     python   \n",
      "     python\n",
      "python   \n",
      "python\n"
     ]
    }
   ],
   "source": [
    "print(str_5)\n",
    "print(str_5.rstrip()) # 오른쪽 공백 제거\n",
    "print(str_5.lstrip()) # 왼쪽 공백 제거\n",
    "print(str_5.strip()) # 양쪽 공백 제거"
   ]
  },
  {
   "cell_type": "code",
   "execution_count": 103,
   "id": "430aa3d0",
   "metadata": {},
   "outputs": [
    {
     "data": {
      "text/plain": [
       "['hi~', 'BUM!']"
      ]
     },
     "execution_count": 103,
     "metadata": {},
     "output_type": "execute_result"
    }
   ],
   "source": [
    "# split\n",
    "str_6 = 'hi~ BUM!'\n",
    "str_6.split() # 공백을 기준으로 나누기"
   ]
  },
  {
   "cell_type": "code",
   "execution_count": 104,
   "id": "73a126a6",
   "metadata": {},
   "outputs": [
    {
     "data": {
      "text/plain": [
       "['010', '1234', '5678']"
      ]
     },
     "execution_count": 104,
     "metadata": {},
     "output_type": "execute_result"
    }
   ],
   "source": [
    "str_pn = '010-1234-5678'\n",
    "str_pn.split('-')"
   ]
  },
  {
   "cell_type": "code",
   "execution_count": 105,
   "id": "42847daa",
   "metadata": {},
   "outputs": [
    {
     "name": "stdout",
     "output_type": "stream",
     "text": [
      "True False\n",
      "10 > 4 => True\n"
     ]
    }
   ],
   "source": [
    "# boolean 타입 : 논리값 저장\n",
    "check_a = True\n",
    "check_b = False\n",
    "print(check_a, check_b)\n",
    "print( '10 > 4 =>', 10>4 )"
   ]
  },
  {
   "cell_type": "code",
   "execution_count": 106,
   "id": "c2ff8e1a",
   "metadata": {},
   "outputs": [
    {
     "name": "stdout",
     "output_type": "stream",
     "text": [
      "False\n"
     ]
    }
   ],
   "source": [
    "# 자료형 타입의 논리값 \n",
    "if False :\n",
    "    print(True)\n",
    "else :\n",
    "    print(False)\n"
   ]
  },
  {
   "cell_type": "code",
   "execution_count": 107,
   "id": "2ba964c5",
   "metadata": {},
   "outputs": [
    {
     "data": {
      "text/plain": [
       "True"
      ]
     },
     "execution_count": 107,
     "metadata": {},
     "output_type": "execute_result"
    }
   ],
   "source": [
    "bool(18) # 0이 아닌 숫자 => True"
   ]
  },
  {
   "cell_type": "markdown",
   "id": "6b2bdb0d",
   "metadata": {},
   "source": [
    "- 코딩연습 \n",
    "<br> \n",
    "- 마크다운으로 이미지 파일 첨부하는 법\n",
    "--- \n",
    "\n",
    "![poster](./img/dog.jpg)"
   ]
  },
  {
   "cell_type": "code",
   "execution_count": 110,
   "id": "af51a2b5",
   "metadata": {},
   "outputs": [
    {
     "name": "stdout",
     "output_type": "stream",
     "text": [
      "평균 점수: 85.0 총점 255.0\n"
     ]
    }
   ],
   "source": [
    "# 과목별 점수 평균\n",
    "math = 80\n",
    "english = 90\n",
    "science = 85\n",
    "average = (math + english + science) / 3\n",
    "print('평균 점수:', average, '총점', average * 3) \n"
   ]
  },
  {
   "cell_type": "code",
   "execution_count": 109,
   "id": "fa8d7277",
   "metadata": {},
   "outputs": [
    {
     "name": "stdout",
     "output_type": "stream",
     "text": [
      "12세는 미성년자입니다.\n"
     ]
    }
   ],
   "source": [
    "# 성별이 남성이고 18세 이상의 성인 여부를 판단하는 조건식\n",
    "man = input('몇 세인가요? : ')\n",
    "if int(man) >= 18 :\n",
    "    print(f'{man}세는 성인입니다.')\n",
    "else : \n",
    "    print(f'{man}세는 미성년자입니다.')"
   ]
  },
  {
   "cell_type": "markdown",
   "id": "359b4459",
   "metadata": {},
   "source": [
    "##### 이미지 공들여서 가운데로 넣기\n",
    "<p align=\"center\">\n",
    " <img src = \"./img/pepe-dancing-pepe-the-frog.gif\">\n",
    "</p>\n",
    "<a herf = \"https://tenor.com/ko/\"> 여기서 가져옴 </a>\n",
    "<p align=\"center\">\n",
    " <img src = \"./img/vulpisfoglia-cry.gif\">\n",
    "</p>"
   ]
  },
  {
   "cell_type": "code",
   "execution_count": 117,
   "id": "fc1704f1",
   "metadata": {},
   "outputs": [
    {
     "name": "stdout",
     "output_type": "stream",
     "text": [
      "[1, 2, 3] 1 2 3\n",
      "[3, 4, [5, 6]]\n",
      "3\n",
      "4\n",
      "5\n"
     ]
    }
   ],
   "source": [
    "# list : 자료형의 묶음으로 표현 -> 변수들의 묶음\n",
    "# list = [1, 2, 3, 4, 5]\n",
    "# 변수들은 순서를 가진다 ( 저장한 순서 -> index )\n",
    "# index range : 0 ~ n(요소의 개수)-1\n",
    "list_a = [] # list 생성\n",
    "list_b = [1, 2, 3] \n",
    "print(list_b, list_b[0], list_b[1], list_b[2])\n",
    "list_c = [1, 2, [3, 4, [5, 6]]] # 리스트 안에 리스트\n",
    "print(list_c[2])\n",
    "print(list_c[2][0]) \n",
    "print(list_c[2][1]) \n",
    "print(list_c[2][2][0])\n"
   ]
  },
  {
   "cell_type": "code",
   "execution_count": 118,
   "id": "25607fc6",
   "metadata": {},
   "outputs": [],
   "source": [
    "# list 요소 참조\n",
    "list_d = [1, 2, 3]"
   ]
  },
  {
   "cell_type": "code",
   "execution_count": 119,
   "id": "31af46c1",
   "metadata": {},
   "outputs": [
    {
     "name": "stdout",
     "output_type": "stream",
     "text": [
      "10\n",
      "[10, 2, 3]\n"
     ]
    }
   ],
   "source": [
    "list_d[0] = 10\n",
    "print(list_d[0]) # 10\n",
    "print(list_d) # 2"
   ]
  },
  {
   "cell_type": "code",
   "execution_count": 120,
   "id": "c6662774",
   "metadata": {},
   "outputs": [],
   "source": [
    "# 리스트의 슬라이싱\n",
    "list_e = [1, 2, 3, 4, 5]"
   ]
  },
  {
   "cell_type": "code",
   "execution_count": 126,
   "id": "22029b0f",
   "metadata": {},
   "outputs": [
    {
     "name": "stdout",
     "output_type": "stream",
     "text": [
      "[1, 2, 3, 4]\n",
      "[1, 3]\n"
     ]
    }
   ],
   "source": [
    "# 변수[시작index : 마지막(탈출)index : 증가값(step)]\n",
    "print(list_e[0:4]) # [1, 2, 3, 4]\n",
    "print(list_e[0:3:2]) # [1, 2, 3, 4, 5]"
   ]
  },
  {
   "cell_type": "code",
   "execution_count": 121,
   "id": "95ad7737",
   "metadata": {},
   "outputs": [
    {
     "data": {
      "text/plain": [
       "[100, 90, 80, 40, 90, 50, 100, 70]"
      ]
     },
     "execution_count": 121,
     "metadata": {},
     "output_type": "execute_result"
    }
   ],
   "source": [
    "# 리스트에 데이터를 저장, 추가적인 리스트 데이터를 하나의 리스트로 저장\n",
    "score_1 = [100, 90, 80]\n",
    "score_2 = [40, 90, 50, 100, 70]\n",
    "score_1 + score_2"
   ]
  },
  {
   "cell_type": "code",
   "execution_count": 122,
   "id": "a76f4bf2",
   "metadata": {},
   "outputs": [
    {
     "data": {
      "text/plain": [
       "[100, 90, 80, 100, 90, 80, 100, 90, 80]"
      ]
     },
     "execution_count": 122,
     "metadata": {},
     "output_type": "execute_result"
    }
   ],
   "source": [
    "score_1*3"
   ]
  },
  {
   "cell_type": "code",
   "execution_count": 137,
   "id": "25b5af5c",
   "metadata": {},
   "outputs": [],
   "source": [
    "list_score = []"
   ]
  },
  {
   "cell_type": "code",
   "execution_count": 155,
   "id": "e1e963e3",
   "metadata": {},
   "outputs": [],
   "source": [
    "list_score.append(60) # 리스트에 데이터 추가"
   ]
  },
  {
   "cell_type": "code",
   "execution_count": null,
   "id": "13486381",
   "metadata": {},
   "outputs": [
    {
     "data": {
      "text/plain": [
       "100"
      ]
     },
     "execution_count": 152,
     "metadata": {},
     "output_type": "execute_result"
    }
   ],
   "source": [
    "list_score.pop() # 리스트의 마지막 요소 삭제\n",
    "list_score.pop(0) # 리스트의 첫번째 요소 삭제\n",
    "# 삭제할 요소의 index가 없으면 오류 발생"
   ]
  },
  {
   "cell_type": "code",
   "execution_count": 156,
   "id": "13bcde22",
   "metadata": {},
   "outputs": [
    {
     "data": {
      "text/plain": [
       "[100, 100, 100, 100, 100, 60]"
      ]
     },
     "execution_count": 156,
     "metadata": {},
     "output_type": "execute_result"
    }
   ],
   "source": [
    "list_score"
   ]
  },
  {
   "cell_type": "code",
   "execution_count": 163,
   "id": "4aed99f5",
   "metadata": {},
   "outputs": [
    {
     "name": "stdout",
     "output_type": "stream",
     "text": [
      "[1, 2, 3, 4]\n",
      "[5, 6, 7, 8]\n",
      "[1, 2, 3, 4, 5, 6, 7, 8]\n"
     ]
    }
   ],
   "source": [
    "list_temp1 = [1, 2, 3, 4]\n",
    "list_temp2 = [5, 6, 7, 8]\n",
    "list_temp3 = list_temp1 + list_temp2 # 리스트 합치기\n",
    "print(list_temp1)\n",
    "print(list_temp2)\n",
    "print(list_temp3)\n"
   ]
  },
  {
   "cell_type": "code",
   "execution_count": 164,
   "id": "16d96c4c",
   "metadata": {},
   "outputs": [
    {
     "name": "stdout",
     "output_type": "stream",
     "text": [
      "[1, 2, 3, 4, 5, 6, 7, 8]\n"
     ]
    }
   ],
   "source": [
    "list_temp1.extend(list_temp2) # 리스트의 요소를 추가\n",
    "print(list_temp1)"
   ]
  },
  {
   "cell_type": "code",
   "execution_count": 166,
   "id": "a6703118",
   "metadata": {},
   "outputs": [
    {
     "name": "stdout",
     "output_type": "stream",
     "text": [
      "1\n",
      "2\n",
      "3\n",
      "4\n",
      "5\n",
      "6\n",
      "7\n",
      "8\n"
     ]
    }
   ],
   "source": [
    "for num in list_temp1 : # 0->1 num = 1 -> num = 2 -> num = 3... 안에있는 list의 갯수만큼 반복한다.\n",
    "    print(num)"
   ]
  },
  {
   "cell_type": "code",
   "execution_count": null,
   "id": "2d45116b",
   "metadata": {},
   "outputs": [],
   "source": []
  }
 ],
 "metadata": {
  "kernelspec": {
   "display_name": ".venv",
   "language": "python",
   "name": "python3"
  },
  "language_info": {
   "codemirror_mode": {
    "name": "ipython",
    "version": 3
   },
   "file_extension": ".py",
   "mimetype": "text/x-python",
   "name": "python",
   "nbconvert_exporter": "python",
   "pygments_lexer": "ipython3",
   "version": "3.13.3"
  }
 },
 "nbformat": 4,
 "nbformat_minor": 5
}
